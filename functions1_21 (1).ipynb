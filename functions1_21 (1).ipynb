{
  "nbformat": 4,
  "nbformat_minor": 0,
  "metadata": {
    "colab": {
      "provenance": []
    },
    "kernelspec": {
      "name": "python3",
      "display_name": "Python 3"
    },
    "language_info": {
      "name": "python"
    }
  },
  "cells": [
    {
      "cell_type": "code",
      "execution_count": 1,
      "metadata": {
        "colab": {
          "base_uri": "https://localhost:8080/"
        },
        "id": "P6h9pAakjvyB",
        "outputId": "5cdfb0fc-517e-4d9e-bb0e-2dd6797fbd43"
      },
      "outputs": [
        {
          "output_type": "stream",
          "name": "stdout",
          "text": [
            "test\n"
          ]
        }
      ],
      "source": [
        "def functionname():\n",
        "  print(\"test\")\n",
        "functionname()"
      ]
    },
    {
      "cell_type": "code",
      "source": [
        "def functioname():\n",
        "  x=10\n",
        "  x=20\n",
        "  x=x+10\n",
        "  print(x)\n",
        "functioname()"
      ],
      "metadata": {
        "colab": {
          "base_uri": "https://localhost:8080/"
        },
        "id": "t8xUQ_a2mYg-",
        "outputId": "5b14ad78-6203-4261-ea8f-a1b76224c7d9"
      },
      "execution_count": 5,
      "outputs": [
        {
          "output_type": "stream",
          "name": "stdout",
          "text": [
            "30\n"
          ]
        }
      ]
    },
    {
      "cell_type": "code",
      "source": [
        "import keyword\n",
        "print(keyword.kwlist)"
      ],
      "metadata": {
        "colab": {
          "base_uri": "https://localhost:8080/"
        },
        "id": "xIJ2L1q2ltIH",
        "outputId": "3f800081-1b14-4692-8947-c517e2782c72"
      },
      "execution_count": 2,
      "outputs": [
        {
          "output_type": "stream",
          "name": "stdout",
          "text": [
            "['False', 'None', 'True', 'and', 'as', 'assert', 'async', 'await', 'break', 'class', 'continue', 'def', 'del', 'elif', 'else', 'except', 'finally', 'for', 'from', 'global', 'if', 'import', 'in', 'is', 'lambda', 'nonlocal', 'not', 'or', 'pass', 'raise', 'return', 'try', 'while', 'with', 'yield']\n"
          ]
        }
      ]
    },
    {
      "cell_type": "code",
      "source": [
        "def add(x,y):\n",
        "  print(x+y)"
      ],
      "metadata": {
        "id": "nYg8_YxkltEp"
      },
      "execution_count": 6,
      "outputs": []
    },
    {
      "cell_type": "code",
      "source": [
        "add(10,20)"
      ],
      "metadata": {
        "colab": {
          "base_uri": "https://localhost:8080/"
        },
        "id": "vpKzCB5LltCC",
        "outputId": "40dd8e74-a0ca-4896-ded3-0c42f44c5674"
      },
      "execution_count": 7,
      "outputs": [
        {
          "output_type": "stream",
          "name": "stdout",
          "text": [
            "30\n"
          ]
        }
      ]
    },
    {
      "cell_type": "code",
      "source": [
        "add(50,90)"
      ],
      "metadata": {
        "colab": {
          "base_uri": "https://localhost:8080/"
        },
        "id": "4JXS0IwCls_I",
        "outputId": "24a6b5b9-6d15-472b-b84f-77c82c264c03"
      },
      "execution_count": 8,
      "outputs": [
        {
          "output_type": "stream",
          "name": "stdout",
          "text": [
            "140\n"
          ]
        }
      ]
    },
    {
      "cell_type": "code",
      "source": [
        "add(\"data\",\"science\")"
      ],
      "metadata": {
        "colab": {
          "base_uri": "https://localhost:8080/"
        },
        "id": "fHZP5uVXtE7Y",
        "outputId": "b7d5dccc-f196-482c-cf03-d20e1c5aadd6"
      },
      "execution_count": 9,
      "outputs": [
        {
          "output_type": "stream",
          "name": "stdout",
          "text": [
            "datascience\n"
          ]
        }
      ]
    },
    {
      "cell_type": "code",
      "source": [
        "def add(x,y):\n",
        "  print(x*y)"
      ],
      "metadata": {
        "id": "0gJV65iHtE38"
      },
      "execution_count": 10,
      "outputs": []
    },
    {
      "cell_type": "code",
      "source": [
        "add(\"data\",2)"
      ],
      "metadata": {
        "colab": {
          "base_uri": "https://localhost:8080/"
        },
        "id": "6OuqfHNUtE1U",
        "outputId": "bbe30ed7-2e7b-49b1-a054-49ceea8e1cbe"
      },
      "execution_count": 11,
      "outputs": [
        {
          "output_type": "stream",
          "name": "stdout",
          "text": [
            "datadata\n"
          ]
        }
      ]
    },
    {
      "cell_type": "code",
      "source": [
        "##load data\n",
        "def load_data(type_of_data):\n",
        "  if type_of_data==\"csv\":\n",
        "    read_csv()\n",
        "  else:\n",
        "    read_excel()"
      ],
      "metadata": {
        "id": "SlslgegbtEyZ"
      },
      "execution_count": null,
      "outputs": []
    },
    {
      "cell_type": "code",
      "source": [
        "### transformations\n",
        "def function(columns,transformation):\n",
        "  print(1/column)"
      ],
      "metadata": {
        "id": "11Fr_y5JtEv7"
      },
      "execution_count": null,
      "outputs": []
    },
    {
      "cell_type": "code",
      "source": [
        "null value treatment\n",
        "outliers\n",
        "label Encoding\n",
        "dummy variables\n",
        "min max scaling"
      ],
      "metadata": {
        "id": "F_6c0xehvFXW"
      },
      "execution_count": null,
      "outputs": []
    },
    {
      "cell_type": "code",
      "source": [
        "def function1(x,y):\n",
        "  print(x+y)"
      ],
      "metadata": {
        "id": "TR9o6rWIvbHj"
      },
      "execution_count": 18,
      "outputs": []
    },
    {
      "cell_type": "code",
      "source": [
        "def function2(x,y):\n",
        " return(x+y)"
      ],
      "metadata": {
        "id": "ehiBBPrWva1y"
      },
      "execution_count": 19,
      "outputs": []
    },
    {
      "cell_type": "code",
      "source": [
        "function1(10,20)"
      ],
      "metadata": {
        "colab": {
          "base_uri": "https://localhost:8080/"
        },
        "id": "ff6NtNFNvayZ",
        "outputId": "8fceef47-58c3-4fbe-bb2d-63b8c638bb9a"
      },
      "execution_count": 20,
      "outputs": [
        {
          "output_type": "stream",
          "name": "stdout",
          "text": [
            "30\n"
          ]
        }
      ]
    },
    {
      "cell_type": "code",
      "source": [
        "function2(10,20)"
      ],
      "metadata": {
        "colab": {
          "base_uri": "https://localhost:8080/"
        },
        "id": "EXh-mwGJvav4",
        "outputId": "9f5d528c-10b5-44c3-ae64-d4ddfe5a34e5"
      },
      "execution_count": 21,
      "outputs": [
        {
          "output_type": "execute_result",
          "data": {
            "text/plain": [
              "30"
            ]
          },
          "metadata": {},
          "execution_count": 21
        }
      ]
    },
    {
      "cell_type": "code",
      "source": [
        "x=function1(10,20)"
      ],
      "metadata": {
        "colab": {
          "base_uri": "https://localhost:8080/"
        },
        "id": "IKRLtsewvatT",
        "outputId": "3ec3736f-e930-44ad-cd4a-3010ddf2e926"
      },
      "execution_count": 35,
      "outputs": [
        {
          "output_type": "stream",
          "name": "stdout",
          "text": [
            "30\n"
          ]
        }
      ]
    },
    {
      "cell_type": "code",
      "source": [
        "y=function2(10,20)"
      ],
      "metadata": {
        "id": "uTxZLUyswR9o"
      },
      "execution_count": 23,
      "outputs": []
    },
    {
      "cell_type": "code",
      "source": [
        "x"
      ],
      "metadata": {
        "colab": {
          "base_uri": "https://localhost:8080/"
        },
        "id": "KhNjC4lDwRwd",
        "outputId": "abb0d3bf-05de-4b9e-ea0b-ce5d319e0730"
      },
      "execution_count": 36,
      "outputs": [
        {
          "output_type": "execute_result",
          "data": {
            "text/plain": [
              "30"
            ]
          },
          "metadata": {},
          "execution_count": 36
        }
      ]
    },
    {
      "cell_type": "code",
      "source": [
        "y"
      ],
      "metadata": {
        "colab": {
          "base_uri": "https://localhost:8080/"
        },
        "id": "fI69T1RRwRs1",
        "outputId": "c08c2e85-af10-4915-dd1d-f3433e0091f8"
      },
      "execution_count": 27,
      "outputs": [
        {
          "output_type": "execute_result",
          "data": {
            "text/plain": [
              "30"
            ]
          },
          "metadata": {},
          "execution_count": 27
        }
      ]
    },
    {
      "cell_type": "code",
      "source": [
        "def function1(x,y):\n",
        "  print(x+y)\n",
        "  return x+y"
      ],
      "metadata": {
        "id": "2nu7kro-wRqN"
      },
      "execution_count": 33,
      "outputs": []
    },
    {
      "cell_type": "code",
      "source": [
        "def function2(x,y):\n",
        "  return(x+y)\n",
        "  print(x+y)\n"
      ],
      "metadata": {
        "id": "BhkaQo86wRnc"
      },
      "execution_count": 40,
      "outputs": []
    },
    {
      "cell_type": "code",
      "source": [
        "x"
      ],
      "metadata": {
        "colab": {
          "base_uri": "https://localhost:8080/"
        },
        "id": "mhmQFd2_wsKs",
        "outputId": "a44d9a86-4b11-4ea6-8dda-3736ac3f7736"
      },
      "execution_count": 37,
      "outputs": [
        {
          "output_type": "execute_result",
          "data": {
            "text/plain": [
              "30"
            ]
          },
          "metadata": {},
          "execution_count": 37
        }
      ]
    },
    {
      "cell_type": "code",
      "source": [
        "y"
      ],
      "metadata": {
        "colab": {
          "base_uri": "https://localhost:8080/"
        },
        "id": "spZTTG7-wr5I",
        "outputId": "4a44d3ac-8e6b-4df4-cb60-e446a64311f3"
      },
      "execution_count": 41,
      "outputs": [
        {
          "output_type": "execute_result",
          "data": {
            "text/plain": [
              "30"
            ]
          },
          "metadata": {},
          "execution_count": 41
        }
      ]
    },
    {
      "cell_type": "code",
      "source": [
        "import pandas as pd\n",
        "df=pd.read_excel(\"/content/Sample - Superstore (2).xls\")\n",
        "df.columns"
      ],
      "metadata": {
        "colab": {
          "base_uri": "https://localhost:8080/"
        },
        "id": "CYEPZUEzwr1w",
        "outputId": "6bc5bc4b-4af2-4075-8ed6-579f91c7b33d"
      },
      "execution_count": 42,
      "outputs": [
        {
          "output_type": "execute_result",
          "data": {
            "text/plain": [
              "Index(['Row ID', 'Order ID', 'Order Date', 'Ship Date', 'Ship Mode',\n",
              "       'Customer ID', 'Customer Name', 'Segment', 'Country', 'City', 'State',\n",
              "       'Postal Code', 'Region', 'Product ID', 'Category', 'Sub-Category',\n",
              "       'Product Name', 'Sales', 'Quantity', 'Discount', 'Profit'],\n",
              "      dtype='object')"
            ]
          },
          "metadata": {},
          "execution_count": 42
        }
      ]
    },
    {
      "cell_type": "code",
      "source": [
        "import matplotlib.pyplot as plt\n",
        "plt.bar(df['Sales'],height=1,width=0.8)"
      ],
      "metadata": {
        "colab": {
          "base_uri": "https://localhost:8080/",
          "height": 447
        },
        "id": "PwQ_m51jwrzS",
        "outputId": "fc349f10-a553-487f-8c29-0744264bfb87"
      },
      "execution_count": 43,
      "outputs": [
        {
          "output_type": "execute_result",
          "data": {
            "text/plain": [
              "<BarContainer object of 9994 artists>"
            ]
          },
          "metadata": {},
          "execution_count": 43
        },
        {
          "output_type": "display_data",
          "data": {
            "text/plain": [
              "<Figure size 640x480 with 1 Axes>"
            ],
            "image/png": "[encoded data removed]"
          },
          "metadata": {}
        }
      ]
    },
    {
      "cell_type": "code",
      "source": [],
      "metadata": {
        "id": "nWqD_1N92urH"
      },
      "execution_count": null,
      "outputs": []
    },
    {
      "cell_type": "code",
      "source": [],
      "metadata": {
        "id": "uy58VqHb2vNg"
      },
      "execution_count": null,
      "outputs": []
    },
    {
      "cell_type": "code",
      "source": [
        "import matplotlib.pyplot as plt\n",
        "def visualization(columnname):\n",
        "  plt.bar(df['Sales'],height=1,width=0.8)\n",
        "visualization('Sales')"
      ],
      "metadata": {
        "colab": {
          "base_uri": "https://localhost:8080/",
          "height": 430
        },
        "id": "FfsE4LUg2q9F",
        "outputId": "08e2ddc9-7a12-4bfe-cff3-f18d924e765e"
      },
      "execution_count": 44,
      "outputs": [
        {
          "output_type": "display_data",
          "data": {
            "text/plain": [
              "<Figure size 640x480 with 1 Axes>"
            ],
            "image/png": "[encoded data removed]"
          },
          "metadata": {}
        }
      ]
    },
    {
      "cell_type": "code",
      "source": [
        "import matplotlib.pyplot as plt\n",
        "def visualization(columnname):\n",
        "  plt.bar(df[columnname],height=0.5,width=0.8)\n",
        "visualization('Quantity')\n",
        "##############IMP#########"
      ],
      "metadata": {
        "colab": {
          "base_uri": "https://localhost:8080/",
          "height": 430
        },
        "id": "vi8WuDjb3ZjT",
        "outputId": "731c7753-029e-4ae8-bbd0-7edd2cd21778"
      },
      "execution_count": 46,
      "outputs": [
        {
          "output_type": "display_data",
          "data": {
            "text/plain": [
              "<Figure size 640x480 with 1 Axes>"
            ],
            "image/png": "[encoded data removed]"
          },
          "metadata": {}
        }
      ]
    },
    {
      "cell_type": "code",
      "source": [
        "path='/content/Sample - Superstore (2).xls'\n",
        "def analysis(path):\n",
        "  df=pd.read_excel(path)\n",
        "  print(\"******************************\")\n",
        "  print(df.columns)\n",
        "  print(df.shape)\n",
        "  print(df.dtypes)\n",
        "  print(\"********************************\")\n",
        "\n",
        "  print(df.isna().sum())\n",
        "  print(\"*******************\")\n",
        "\n",
        "  print(df.describe(include='object'))\n",
        "analysis(path)\n",
        "\n",
        "####this str same for all project#########"
      ],
      "metadata": {
        "colab": {
          "base_uri": "https://localhost:8080/"
        },
        "id": "uvHViVNq3k4d",
        "outputId": "7a73331a-d48d-4c6d-990d-9b2ead43db60"
      },
      "execution_count": 52,
      "outputs": [
        {
          "output_type": "stream",
          "name": "stdout",
          "text": [
            "******************************\n",
            "Index(['Row ID', 'Order ID', 'Order Date', 'Ship Date', 'Ship Mode',\n",
            "       'Customer ID', 'Customer Name', 'Segment', 'Country', 'City', 'State',\n",
            "       'Postal Code', 'Region', 'Product ID', 'Category', 'Sub-Category',\n",
            "       'Product Name', 'Sales', 'Quantity', 'Discount', 'Profit'],\n",
            "      dtype='object')\n",
            "(9994, 21)\n",
            "Row ID                    int64\n",
            "Order ID                 object\n",
            "Order Date       datetime64[ns]\n",
            "Ship Date        datetime64[ns]\n",
            "Ship Mode                object\n",
            "Customer ID              object\n",
            "Customer Name            object\n",
            "Segment                  object\n",
            "Country                  object\n",
            "City                     object\n",
            "State                    object\n",
            "Postal Code               int64\n",
            "Region                   object\n",
            "Product ID               object\n",
            "Category                 object\n",
            "Sub-Category             object\n",
            "Product Name             object\n",
            "Sales                   float64\n",
            "Quantity                  int64\n",
            "Discount                float64\n",
            "Profit                  float64\n",
            "dtype: object\n",
            "********************************\n",
            "Row ID           0\n",
            "Order ID         0\n",
            "Order Date       0\n",
            "Ship Date        0\n",
            "Ship Mode        0\n",
            "Customer ID      0\n",
            "Customer Name    0\n",
            "Segment          0\n",
            "Country          0\n",
            "City             0\n",
            "State            0\n",
            "Postal Code      0\n",
            "Region           0\n",
            "Product ID       0\n",
            "Category         0\n",
            "Sub-Category     0\n",
            "Product Name     0\n",
            "Sales            0\n",
            "Quantity         0\n",
            "Discount         0\n",
            "Profit           0\n",
            "dtype: int64\n",
            "*******************\n",
            "              Order ID       Ship Mode Customer ID  Customer Name   Segment  \\\n",
            "count             9994            9994        9994           9994      9994   \n",
            "unique            5009               4         793            793         3   \n",
            "top     CA-2017-100111  Standard Class    WB-21850  William Brown  Consumer   \n",
            "freq                14            5968          37             37      5191   \n",
            "\n",
            "              Country           City       State Region       Product ID  \\\n",
            "count            9994           9994        9994   9994             9994   \n",
            "unique              1            531          49      4             1862   \n",
            "top     United States  New York City  California   West  OFF-PA-10001970   \n",
            "freq             9994            915        2001   3203               19   \n",
            "\n",
            "               Category Sub-Category     Product Name  \n",
            "count              9994         9994             9994  \n",
            "unique                3           17             1850  \n",
            "top     Office Supplies      Binders  Staple envelope  \n",
            "freq               6026         1523               48  \n"
          ]
        }
      ]
    },
    {
      "cell_type": "code",
      "source": [
        "def order(item,quantity):\n",
        "  print(f\"{item},quantity:{quantity}\")"
      ],
      "metadata": {
        "id": "16sneh806Hxl"
      },
      "execution_count": 1,
      "outputs": []
    },
    {
      "cell_type": "code",
      "source": [],
      "metadata": {
        "id": "uWv8oX_M6HuC"
      },
      "execution_count": null,
      "outputs": []
    },
    {
      "cell_type": "markdown",
      "source": [],
      "metadata": {
        "id": "o6IMppi-uRTd"
      }
    },
    {
      "cell_type": "code",
      "source": [
        "order(10,20)"
      ],
      "metadata": {
        "colab": {
          "base_uri": "https://localhost:8080/"
        },
        "id": "_WZ8SPIB6HsG",
        "outputId": "4c689ae5-8210-437e-df88-a104089f8867"
      },
      "execution_count": 2,
      "outputs": [
        {
          "output_type": "stream",
          "name": "stdout",
          "text": [
            "10,quantity:20\n"
          ]
        }
      ]
    },
    {
      "cell_type": "code",
      "source": [
        "### positional based arguments"
      ],
      "metadata": {
        "id": "hqV8HobW6Hpb"
      },
      "execution_count": null,
      "outputs": []
    },
    {
      "cell_type": "code",
      "source": [
        "#### keyword based arguments"
      ],
      "metadata": {
        "id": "nOCdar_TuhP2"
      },
      "execution_count": null,
      "outputs": []
    },
    {
      "cell_type": "code",
      "source": [
        "def order(item,quantity):\n",
        "  print(f\"{item},quantity:{quantity}\")"
      ],
      "metadata": {
        "id": "-th9Hqhhug-7"
      },
      "execution_count": 3,
      "outputs": []
    },
    {
      "cell_type": "code",
      "source": [
        "order(quantity=10,item='laptops')"
      ],
      "metadata": {
        "colab": {
          "base_uri": "https://localhost:8080/"
        },
        "id": "Ccf1vTa-uvH3",
        "outputId": "b06e6e51-932f-49f3-f7b4-ba0f32752e21"
      },
      "execution_count": 4,
      "outputs": [
        {
          "output_type": "stream",
          "name": "stdout",
          "text": [
            "laptops,quantity:10\n"
          ]
        }
      ]
    },
    {
      "cell_type": "code",
      "source": [
        "def order(item,quantity=10):\n",
        "  print(f\"{item},quantity:{quantity}\")\n",
        "order(\"laptop\")"
      ],
      "metadata": {
        "colab": {
          "base_uri": "https://localhost:8080/"
        },
        "id": "DMyS7OtQu2zG",
        "outputId": "01353279-6b5c-4c3e-90c2-d78264111d85"
      },
      "execution_count": 5,
      "outputs": [
        {
          "output_type": "stream",
          "name": "stdout",
          "text": [
            "laptop,quantity:10\n"
          ]
        }
      ]
    },
    {
      "cell_type": "code",
      "source": [
        "def order(item,quantity=10):\n",
        "  print(f\"{item},quantity:{quantity}\")\n",
        "order(\"laptop\",30)"
      ],
      "metadata": {
        "colab": {
          "base_uri": "https://localhost:8080/"
        },
        "id": "SzAZ2uDdu2vj",
        "outputId": "ef378bf3-10c6-4101-c8be-97a63ddb5a59"
      },
      "execution_count": 6,
      "outputs": [
        {
          "output_type": "stream",
          "name": "stdout",
          "text": [
            "laptop,quantity:30\n"
          ]
        }
      ]
    },
    {
      "cell_type": "code",
      "source": [
        "def order(*args):\n",
        "  print(args)"
      ],
      "metadata": {
        "id": "Kvwz-WXou2tE"
      },
      "execution_count": 10,
      "outputs": []
    },
    {
      "cell_type": "code",
      "source": [
        "order(10,20,30,40)"
      ],
      "metadata": {
        "colab": {
          "base_uri": "https://localhost:8080/"
        },
        "id": "c8OznagavTT7",
        "outputId": "75b64722-4110-49bf-86af-7a6b2444cc45"
      },
      "execution_count": 11,
      "outputs": [
        {
          "output_type": "stream",
          "name": "stdout",
          "text": [
            "(10, 20, 30, 40)\n"
          ]
        }
      ]
    },
    {
      "cell_type": "code",
      "source": [
        "def order(*args):\n",
        "  print(args[-1])"
      ],
      "metadata": {
        "id": "e5ftGbL2vS88"
      },
      "execution_count": 12,
      "outputs": []
    },
    {
      "cell_type": "code",
      "source": [
        "order(10,20,30,40)"
      ],
      "metadata": {
        "colab": {
          "base_uri": "https://localhost:8080/"
        },
        "id": "2mg1v-NLvnD1",
        "outputId": "ed432222-2d31-4f4b-926c-533d36e48847"
      },
      "execution_count": 13,
      "outputs": [
        {
          "output_type": "stream",
          "name": "stdout",
          "text": [
            "40\n"
          ]
        }
      ]
    },
    {
      "cell_type": "code",
      "source": [
        "def add_numbers(*args):\n",
        "  return sum(args)\n",
        "\n",
        "print(add_numbers(10,20,30))\n",
        "print(add_numbers(5,15))"
      ],
      "metadata": {
        "colab": {
          "base_uri": "https://localhost:8080/"
        },
        "id": "8V93uib3vnAW",
        "outputId": "9eee0b5b-64c9-4b64-b8e5-c8977389e4b5"
      },
      "execution_count": 15,
      "outputs": [
        {
          "output_type": "stream",
          "name": "stdout",
          "text": [
            "60\n",
            "20\n"
          ]
        }
      ]
    },
    {
      "cell_type": "code",
      "source": [
        "def find_max(*args):\n",
        "  return max(args)\n",
        "\n",
        "print(find_max(12,45,7,89,23))"
      ],
      "metadata": {
        "colab": {
          "base_uri": "https://localhost:8080/"
        },
        "id": "PcGZl0_qvm94",
        "outputId": "9ff1770d-ad27-43af-e737-bbf1eec9fa63"
      },
      "execution_count": 16,
      "outputs": [
        {
          "output_type": "stream",
          "name": "stdout",
          "text": [
            "89\n"
          ]
        }
      ]
    },
    {
      "cell_type": "code",
      "source": [
        "def greet(*args):\n",
        "  for name in args:\n",
        "    print(f\"Hello,{name}!\")\n",
        "\n",
        "greet(\"Alice\",\"Bob\",\"Charlie\")"
      ],
      "metadata": {
        "colab": {
          "base_uri": "https://localhost:8080/"
        },
        "id": "zPSbm2PWxgec",
        "outputId": "127c99d2-232a-453e-eff0-97f784f9996e"
      },
      "execution_count": 18,
      "outputs": [
        {
          "output_type": "stream",
          "name": "stdout",
          "text": [
            "Hello,Alice!\n",
            "Hello,Bob!\n",
            "Hello,Charlie!\n"
          ]
        }
      ]
    },
    {
      "cell_type": "code",
      "source": [
        "def greet(*args):\n",
        "  for name in args:\n",
        "    print(f\"Hello,{name[0]}!\")\n",
        "\n",
        "greet(\"Alice\",\"Bob\",\"Charlie\")"
      ],
      "metadata": {
        "colab": {
          "base_uri": "https://localhost:8080/"
        },
        "id": "G9Wf8x7kxgQx",
        "outputId": "732e2725-b4f7-4669-c5f0-d56a5b15e2cf"
      },
      "execution_count": 19,
      "outputs": [
        {
          "output_type": "stream",
          "name": "stdout",
          "text": [
            "Hello,A!\n",
            "Hello,B!\n",
            "Hello,C!\n"
          ]
        }
      ]
    },
    {
      "cell_type": "code",
      "source": [
        "def cart_items(*args):\n",
        "  print(\"items in cart:\",args)\n",
        "\n",
        "cart_items(\"Laptop\",\"Phone\",\"Headphones\")"
      ],
      "metadata": {
        "colab": {
          "base_uri": "https://localhost:8080/"
        },
        "id": "QP0NfUfWxgCt",
        "outputId": "e740b68d-2222-4189-9864-2522473e9170"
      },
      "execution_count": 21,
      "outputs": [
        {
          "output_type": "stream",
          "name": "stdout",
          "text": [
            "items in cart: ('Laptop', 'Phone', 'Headphones')\n"
          ]
        }
      ]
    },
    {
      "cell_type": "code",
      "source": [
        "(10,20,30)\n",
        "\n",
        "def multiple(*args):\n",
        "  result=1\n",
        "  for i in args:\n",
        "    result=result*i\n",
        "  return result\n",
        "multiple(10,20,30,40)"
      ],
      "metadata": {
        "colab": {
          "base_uri": "https://localhost:8080/"
        },
        "id": "i4caSv7Fyfpa",
        "outputId": "7aa0a0f5-4af6-464f-befa-0b75253c90a5"
      },
      "execution_count": 22,
      "outputs": [
        {
          "output_type": "execute_result",
          "data": {
            "text/plain": [
              "240000"
            ]
          },
          "metadata": {},
          "execution_count": 22
        }
      ]
    },
    {
      "cell_type": "code",
      "source": [
        "#1.Write a function sum_all(*args) that returns the sum of all numbers passed.\n",
        "def sum_all(*args):\n",
        "  result=0\n",
        "  for i in args:\n",
        "    result=result+i\n",
        "  return result\n",
        "sum_all(10,30,50,60)\n",
        "\n"
      ],
      "metadata": {
        "colab": {
          "base_uri": "https://localhost:8080/"
        },
        "id": "qfoyE-2Mxf_I",
        "outputId": "d601c7ad-6e6e-4978-88b5-9dbdb132c53d"
      },
      "execution_count": 23,
      "outputs": [
        {
          "output_type": "execute_result",
          "data": {
            "text/plain": [
              "150"
            ]
          },
          "metadata": {},
          "execution_count": 23
        }
      ]
    },
    {
      "cell_type": "code",
      "source": [
        "#2.Write a function concat_strings(*args) that joins all string arguments into one string.\n",
        "def concat_strings(*args):\n",
        "  result=\"\"\n",
        "  for i in args:\n",
        "    result=result+i\n",
        "  return result\n",
        "concat_strings(\"laki\",\"leetu\",\"lagna\")\n"
      ],
      "metadata": {
        "colab": {
          "base_uri": "https://localhost:8080/",
          "height": 35
        },
        "id": "e7jAbhMz3M5N",
        "outputId": "b81d4eff-9323-4d9a-fa6b-3768c74592ca"
      },
      "execution_count": 1,
      "outputs": [
        {
          "output_type": "execute_result",
          "data": {
            "text/plain": [
              "'lakileetulagna'"
            ],
            "application/vnd.google.colaboratory.intrinsic+json": {
              "type": "string"
            }
          },
          "metadata": {},
          "execution_count": 1
        }
      ]
    },
    {
      "cell_type": "code",
      "source": [
        "#3.Write a function max_number(*args) that returns the maximum value passed.\n",
        "def max_number(*args):\n",
        "    if not args:   # check if no values passed\n",
        "        return None\n",
        "    max_val = args[0]\n",
        "    for num in args[1:]:\n",
        "        if num > max_val:\n",
        "            max_val = num\n",
        "    return max_val\n",
        "\n",
        "print(max_number(3, 7, 2, 9, 1))   # Output: 9\n",
        "print(max_number(-5, -2, -9))      # Output: -2\n",
        "print(max_number())                # Output: None\n",
        "\n"
      ],
      "metadata": {
        "colab": {
          "base_uri": "https://localhost:8080/"
        },
        "id": "lBqH0Ci83M2E",
        "outputId": "f164806b-73c5-47f6-c611-7df17639dfef"
      },
      "execution_count": 2,
      "outputs": [
        {
          "output_type": "stream",
          "name": "stdout",
          "text": [
            "9\n",
            "-2\n",
            "None\n"
          ]
        }
      ]
    }
  ]
}