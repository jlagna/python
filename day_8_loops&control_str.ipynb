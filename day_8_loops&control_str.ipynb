{
  "nbformat": 4,
  "nbformat_minor": 0,
  "metadata": {
    "colab": {
      "provenance": []
    },
    "kernelspec": {
      "name": "python3",
      "display_name": "Python 3"
    },
    "language_info": {
      "name": "python"
    }
  },
  "cells": [
    {
      "cell_type": "code",
      "execution_count": null,
      "metadata": {
        "colab": {
          "base_uri": "https://localhost:8080/"
        },
        "id": "YEAQLHMwHMZ5",
        "outputId": "a14f2f77-7cfc-4b52-96bb-9ddc0f0388a6"
      },
      "outputs": [
        {
          "output_type": "stream",
          "name": "stdout",
          "text": [
            "test\n",
            "test\n",
            "test\n",
            "test\n",
            "test\n"
          ]
        }
      ],
      "source": [
        "x=10\n",
        "while x>5:\n",
        "  print(\"test\")\n",
        "  x=x-1"
      ]
    },
    {
      "cell_type": "code",
      "source": [
        "x=1\n",
        "while x<5:\n",
        "  print(\"test\")\n",
        "  x=x+1"
      ],
      "metadata": {
        "colab": {
          "base_uri": "https://localhost:8080/"
        },
        "id": "l_mUtEDXKwGZ",
        "outputId": "434c3dc8-d16e-4e33-97a3-39fab01511f1"
      },
      "execution_count": null,
      "outputs": [
        {
          "output_type": "stream",
          "name": "stdout",
          "text": [
            "test\n",
            "test\n",
            "test\n",
            "test\n"
          ]
        }
      ]
    },
    {
      "cell_type": "code",
      "source": [
        "x=1\n",
        "while x<5:\n",
        "  print( \"the value of x is\",x)\n",
        "  x=x+1"
      ],
      "metadata": {
        "colab": {
          "base_uri": "https://localhost:8080/"
        },
        "id": "ZifpbTMKKv_G",
        "outputId": "75adb19c-c50c-4fe1-dde6-b2c27c1bc0cd"
      },
      "execution_count": null,
      "outputs": [
        {
          "output_type": "stream",
          "name": "stdout",
          "text": [
            "the value of x is 1\n",
            "the value of x is 2\n",
            "the value of x is 3\n",
            "the value of x is 4\n"
          ]
        }
      ]
    },
    {
      "cell_type": "code",
      "source": [
        "#any variable which is used to print mention it last of the print statement"
      ],
      "metadata": {
        "id": "wGCDZYDELv_2"
      },
      "execution_count": null,
      "outputs": []
    },
    {
      "cell_type": "code",
      "source": [
        "x=1\n",
        "while x<5:\n",
        "  print(f\"the value of x is {x}\")\n",
        "  x=x+1"
      ],
      "metadata": {
        "colab": {
          "base_uri": "https://localhost:8080/"
        },
        "id": "Tf3cJjnkLpbJ",
        "outputId": "59f733ad-acbc-4b1b-a28c-84e0c383a13c"
      },
      "execution_count": null,
      "outputs": [
        {
          "output_type": "stream",
          "name": "stdout",
          "text": [
            "the value of x is 1\n",
            "the value of x is 2\n",
            "the value of x is 3\n",
            "the value of x is 4\n"
          ]
        }
      ]
    },
    {
      "cell_type": "code",
      "source": [
        "#advantage is postion  variable or multiple variable any where of the f-string"
      ],
      "metadata": {
        "id": "a6qGsioTKv8Q"
      },
      "execution_count": null,
      "outputs": []
    },
    {
      "cell_type": "code",
      "source": [
        "x=1\n",
        "y=20\n",
        "while x<5:\n",
        "  print(f\"the value of {x},{y} of x is\")\n",
        "  x=x+1\n"
      ],
      "metadata": {
        "colab": {
          "base_uri": "https://localhost:8080/"
        },
        "id": "fGEk363dKv4u",
        "outputId": "6fd35aea-1288-42e7-a3e9-db8ae5794117"
      },
      "execution_count": null,
      "outputs": [
        {
          "output_type": "stream",
          "name": "stdout",
          "text": [
            "the value of 1,20\n",
            "the value of 2,20\n",
            "the value of 3,20\n",
            "the value of 4,20\n"
          ]
        }
      ]
    },
    {
      "cell_type": "code",
      "source": [
        "#this loop runs until fail"
      ],
      "metadata": {
        "id": "u7h1XlbzKvxP"
      },
      "execution_count": null,
      "outputs": []
    },
    {
      "cell_type": "code",
      "source": [
        "[1,3,5,7,9]"
      ],
      "metadata": {
        "id": "db5YQaNLKvq9"
      },
      "execution_count": null,
      "outputs": []
    },
    {
      "cell_type": "code",
      "source": [
        "x=1\n",
        "while x<10:\n",
        "  print(x)\n",
        "  x=x+2"
      ],
      "metadata": {
        "colab": {
          "base_uri": "https://localhost:8080/"
        },
        "id": "UHqdXL6oNNAK",
        "outputId": "82d363de-bb82-410d-b31e-0d092fadc1a4"
      },
      "execution_count": null,
      "outputs": [
        {
          "output_type": "stream",
          "name": "stdout",
          "text": [
            "1\n",
            "3\n",
            "5\n",
            "7\n",
            "9\n"
          ]
        }
      ]
    },
    {
      "cell_type": "code",
      "source": [
        "x=1\n",
        "y=[]\n",
        "while x<10:\n",
        "  y.append(x)\n",
        "  x=x+2\n",
        "y\n"
      ],
      "metadata": {
        "colab": {
          "base_uri": "https://localhost:8080/"
        },
        "id": "BkAvKiHaNLoI",
        "outputId": "7374e1b7-525a-4730-84ce-8d3225dcf91b"
      },
      "execution_count": null,
      "outputs": [
        {
          "output_type": "execute_result",
          "data": {
            "text/plain": [
              "[1, 3, 5, 7, 9]"
            ]
          },
          "metadata": {},
          "execution_count": 18
        }
      ]
    },
    {
      "cell_type": "code",
      "source": [
        "data\n",
        "d\n",
        "da\n",
        "dat\n",
        "data\n"
      ],
      "metadata": {
        "id": "-G-tNFJANLko"
      },
      "execution_count": null,
      "outputs": []
    },
    {
      "cell_type": "code",
      "source": [
        "x=\"data\"\n",
        "y=1\n",
        "while y<(len(x)+1):\n",
        "  print(x[0:y])\n",
        "  y=y+1\n"
      ],
      "metadata": {
        "colab": {
          "base_uri": "https://localhost:8080/"
        },
        "id": "0SCNWs8UNLik",
        "outputId": "f8fc45ed-b104-4616-ad61-daba24556dbb"
      },
      "execution_count": null,
      "outputs": [
        {
          "output_type": "stream",
          "name": "stdout",
          "text": [
            "d\n",
            "da\n",
            "dat\n",
            "data\n"
          ]
        }
      ]
    },
    {
      "cell_type": "code",
      "source": [
        "x=5\n",
        "i=6\n",
        "while i>0:\n",
        "  print(\"*\"*i)\n",
        "  i=i-1"
      ],
      "metadata": {
        "colab": {
          "base_uri": "https://localhost:8080/"
        },
        "id": "XX5005AbNLDk",
        "outputId": "12000e23-49d8-46f4-e951-08345176110c"
      },
      "execution_count": null,
      "outputs": [
        {
          "output_type": "stream",
          "name": "stdout",
          "text": [
            "******\n",
            "*****\n",
            "****\n",
            "***\n",
            "**\n",
            "*\n"
          ]
        }
      ]
    },
    {
      "cell_type": "code",
      "source": [
        "x=5\n",
        "i=1\n",
        "while i<6:\n",
        "  print(\"*\"*i)\n",
        "  i=i+1"
      ],
      "metadata": {
        "colab": {
          "base_uri": "https://localhost:8080/"
        },
        "id": "O0p9dgcYNLAM",
        "outputId": "e37fa9b7-4540-4b0f-caf4-d126a996f48f"
      },
      "execution_count": null,
      "outputs": [
        {
          "output_type": "stream",
          "name": "stdout",
          "text": [
            "*\n",
            "**\n",
            "***\n",
            "****\n",
            "*****\n"
          ]
        }
      ]
    },
    {
      "cell_type": "code",
      "source": [
        "x=[11,22,3,2244,45,61,72,822,91,102]\n",
        "\n",
        "# while loop add all odd numbers / add all even number\n",
        "\n",
        "var=0\n",
        "even_sum=0\n",
        "odd_sum=0\n",
        "while var<10:\n",
        "  if x[var]%2==0:\n",
        "   even_sum=even_sum+x[var]\n",
        "  else:\n",
        "    odd_sum=odd_sum+x[var]\n",
        "  var=var+1\n",
        "print(even_sum,odd_sum)"
      ],
      "metadata": {
        "colab": {
          "base_uri": "https://localhost:8080/"
        },
        "id": "jGYPsA2eNK7s",
        "outputId": "d15cf778-8339-4e7e-901e-b3f6881c6e65"
      },
      "execution_count": null,
      "outputs": [
        {
          "output_type": "stream",
          "name": "stdout",
          "text": [
            "3262 211\n"
          ]
        }
      ]
    },
    {
      "cell_type": "code",
      "source": [
        "break\n",
        "continue"
      ],
      "metadata": {
        "id": "0wZ6y-GXsyLd"
      },
      "execution_count": null,
      "outputs": []
    },
    {
      "cell_type": "code",
      "source": [
        "for i in range(0,10):\n",
        "  print(i)\n",
        "  if i==5:\n",
        "    break #it is break the loop"
      ],
      "metadata": {
        "colab": {
          "base_uri": "https://localhost:8080/"
        },
        "id": "l1hrKifoNK5h",
        "outputId": "eb694806-3bea-410c-c7e8-06ec3213a25a"
      },
      "execution_count": null,
      "outputs": [
        {
          "output_type": "stream",
          "name": "stdout",
          "text": [
            "0\n",
            "1\n",
            "2\n",
            "3\n",
            "4\n",
            "5\n"
          ]
        }
      ]
    },
    {
      "cell_type": "code",
      "source": [
        "for i in range(0,10):\n",
        "  if i==5:\n",
        "    break\n",
        "  print(i) #5 will not printing because of print statement after break"
      ],
      "metadata": {
        "colab": {
          "base_uri": "https://localhost:8080/"
        },
        "id": "MWI1DcsbNK2x",
        "outputId": "03886842-f6fa-4d1f-a638-44743b8d8c5f"
      },
      "execution_count": null,
      "outputs": [
        {
          "output_type": "stream",
          "name": "stdout",
          "text": [
            "0\n",
            "1\n",
            "2\n",
            "3\n",
            "4\n"
          ]
        }
      ]
    },
    {
      "cell_type": "code",
      "source": [
        "for i in range(0,10):\n",
        "  if i==5:\n",
        "    continue #only that occurence break and move to next one\n",
        "  print(i,end=',')"
      ],
      "metadata": {
        "colab": {
          "base_uri": "https://localhost:8080/"
        },
        "id": "GPtC6Me5NKyP",
        "outputId": "bad7ed8b-6d58-47c4-ea56-4e64282721cb"
      },
      "execution_count": null,
      "outputs": [
        {
          "output_type": "stream",
          "name": "stdout",
          "text": [
            "0,1,2,3,4,6,7,8,9,"
          ]
        }
      ]
    },
    {
      "cell_type": "code",
      "source": [
        "for i in range(0,5):\n",
        "  for j in range(0,5):\n",
        "    if j==2:\n",
        "      break #break immediate loop ie inner loop not all loop\n",
        "    print(i,j) #print 5*2=10 element"
      ],
      "metadata": {
        "colab": {
          "base_uri": "https://localhost:8080/"
        },
        "id": "sqKz032Lugo7",
        "outputId": "389631e1-5a9c-48d6-9637-57e852cf60fa"
      },
      "execution_count": null,
      "outputs": [
        {
          "output_type": "stream",
          "name": "stdout",
          "text": [
            "0 0\n",
            "0 1\n",
            "1 0\n",
            "1 1\n",
            "2 0\n",
            "2 1\n",
            "3 0\n",
            "3 1\n",
            "4 0\n",
            "4 1\n"
          ]
        }
      ]
    },
    {
      "cell_type": "code",
      "source": [
        "for i in range(0,5):\n",
        "  for j in range(0,5):\n",
        "    print(i,j) #print 5*3=15 element\n",
        "    if j==2:\n",
        "      break #break immediate loop ie inner loop not all loop"
      ],
      "metadata": {
        "colab": {
          "base_uri": "https://localhost:8080/"
        },
        "id": "BH5K4gSuugij",
        "outputId": "082ed5b0-2111-4031-ce31-8799c9d6a5f0"
      },
      "execution_count": null,
      "outputs": [
        {
          "output_type": "stream",
          "name": "stdout",
          "text": [
            "0 0\n",
            "0 1\n",
            "0 2\n",
            "1 0\n",
            "1 1\n",
            "1 2\n",
            "2 0\n",
            "2 1\n",
            "2 2\n",
            "3 0\n",
            "3 1\n",
            "3 2\n",
            "4 0\n",
            "4 1\n",
            "4 2\n"
          ]
        }
      ]
    },
    {
      "cell_type": "code",
      "source": [
        "for i in range(0,5):\n",
        "  for j in range(0,5):\n",
        "    if j==2:\n",
        "      continue #only skip 2nd element\n",
        "    print(i,j) #5*4=20 element we will get"
      ],
      "metadata": {
        "colab": {
          "base_uri": "https://localhost:8080/"
        },
        "id": "i16nBO_kugce",
        "outputId": "bca51d67-27fa-40db-a489-9946b2266c6d"
      },
      "execution_count": null,
      "outputs": [
        {
          "output_type": "stream",
          "name": "stdout",
          "text": [
            "0 0\n",
            "0 1\n",
            "0 3\n",
            "0 4\n",
            "1 0\n",
            "1 1\n",
            "1 3\n",
            "1 4\n",
            "2 0\n",
            "2 1\n",
            "2 3\n",
            "2 4\n",
            "3 0\n",
            "3 1\n",
            "3 3\n",
            "3 4\n",
            "4 0\n",
            "4 1\n",
            "4 3\n",
            "4 4\n"
          ]
        }
      ]
    },
    {
      "cell_type": "code",
      "source": [
        "for i in range(0,5):\n",
        "  for j in range(0,5):\n",
        "    print(i,j) #print 25 element\n",
        "    if j==2:\n",
        "      continue\n"
      ],
      "metadata": {
        "colab": {
          "base_uri": "https://localhost:8080/"
        },
        "id": "nw7z9B1FugQl",
        "outputId": "0fe5d075-a143-4611-89ec-b82b59f151b3"
      },
      "execution_count": null,
      "outputs": [
        {
          "output_type": "stream",
          "name": "stdout",
          "text": [
            "0 0\n",
            "0 1\n",
            "0 2\n",
            "0 3\n",
            "0 4\n",
            "1 0\n",
            "1 1\n",
            "1 2\n",
            "1 3\n",
            "1 4\n",
            "2 0\n",
            "2 1\n",
            "2 2\n",
            "2 3\n",
            "2 4\n",
            "3 0\n",
            "3 1\n",
            "3 2\n",
            "3 3\n",
            "3 4\n",
            "4 0\n",
            "4 1\n",
            "4 2\n",
            "4 3\n",
            "4 4\n"
          ]
        }
      ]
    },
    {
      "cell_type": "code",
      "source": [
        "for i in \"datescience\":\n",
        "  for j in \"data\":\n",
        "    if j==\"t\":\n",
        "      break\n",
        "    print([i,j],end=',') #11*2=22 element"
      ],
      "metadata": {
        "colab": {
          "base_uri": "https://localhost:8080/"
        },
        "id": "HZcXevu6yNc3",
        "outputId": "6a4d4a9b-2f65-4a99-dadb-33a2c3ffba33"
      },
      "execution_count": null,
      "outputs": [
        {
          "output_type": "stream",
          "name": "stdout",
          "text": [
            "['d', 'd'],['d', 'a'],['a', 'd'],['a', 'a'],['t', 'd'],['t', 'a'],['e', 'd'],['e', 'a'],['s', 'd'],['s', 'a'],['c', 'd'],['c', 'a'],['i', 'd'],['i', 'a'],['e', 'd'],['e', 'a'],['n', 'd'],['n', 'a'],['c', 'd'],['c', 'a'],['e', 'd'],['e', 'a'],"
          ]
        }
      ]
    },
    {
      "cell_type": "code",
      "source": [
        "for i in \"datescience\":\n",
        "  for j in \"data\":\n",
        "    if j==\"t\":\n",
        "      break\n",
        "      print([i,j],end=',') #not getting any output"
      ],
      "metadata": {
        "id": "z-RY_MJZzE6B"
      },
      "execution_count": null,
      "outputs": []
    },
    {
      "cell_type": "code",
      "source": [
        "for i in \"datescience\":\n",
        "  for j in \"data\":\n",
        "    if j==\"t\":\n",
        "      print([i,j],end=',') #getting 11*1=11 element\n",
        "      break"
      ],
      "metadata": {
        "colab": {
          "base_uri": "https://localhost:8080/"
        },
        "id": "m-FB0GyjyNLT",
        "outputId": "d168fa7e-02ca-4611-9883-5a01b160f737"
      },
      "execution_count": null,
      "outputs": [
        {
          "output_type": "stream",
          "name": "stdout",
          "text": [
            "['d', 't'],['a', 't'],['t', 't'],['e', 't'],['s', 't'],['c', 't'],['i', 't'],['e', 't'],['n', 't'],['c', 't'],['e', 't'],"
          ]
        }
      ]
    },
    {
      "cell_type": "code",
      "source": [
        "x=10\n",
        "\n",
        "for i in range(0,10):\n",
        "  for j in range(0,20,5):\n",
        "    if i%2==0:\n",
        "      break\n",
        "    print(i,j) #5*4=20 element"
      ],
      "metadata": {
        "id": "PNcFuYBlyM9J"
      },
      "execution_count": null,
      "outputs": []
    },
    {
      "cell_type": "code",
      "source": [
        "x=10\n",
        "\n",
        "for i in range(0,10):\n",
        "  for j in range(0,21,4):\n",
        "    print(i,j) #10*1=10 element\n",
        "    if j%2==0:\n",
        "      break"
      ],
      "metadata": {
        "id": "xGbVaOZDyMmw",
        "colab": {
          "base_uri": "https://localhost:8080/"
        },
        "outputId": "845d4dc3-c4fe-4dfe-c443-bf693c66aa8c"
      },
      "execution_count": 28,
      "outputs": [
        {
          "output_type": "stream",
          "name": "stdout",
          "text": [
            "0 0\n",
            "1 0\n",
            "2 0\n",
            "3 0\n",
            "4 0\n",
            "5 0\n",
            "6 0\n",
            "7 0\n",
            "8 0\n",
            "9 0\n"
          ]
        }
      ]
    },
    {
      "cell_type": "code",
      "source": [],
      "metadata": {
        "id": "IuHDLwMX65O-"
      },
      "execution_count": null,
      "outputs": []
    },
    {
      "cell_type": "code",
      "source": [],
      "metadata": {
        "id": "oe51vX4S65Ld"
      },
      "execution_count": null,
      "outputs": []
    },
    {
      "cell_type": "code",
      "source": [],
      "metadata": {
        "id": "-9OE5W-r65Gm"
      },
      "execution_count": null,
      "outputs": []
    },
    {
      "cell_type": "code",
      "source": [],
      "metadata": {
        "id": "JlYvyOxY65Az"
      },
      "execution_count": null,
      "outputs": []
    }
  ]
}