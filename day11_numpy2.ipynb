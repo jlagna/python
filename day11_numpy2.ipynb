{
  "nbformat": 4,
  "nbformat_minor": 0,
  "metadata": {
    "colab": {
      "provenance": []
    },
    "kernelspec": {
      "name": "python3",
      "display_name": "Python 3"
    },
    "language_info": {
      "name": "python"
    }
  },
  "cells": [
    {
      "cell_type": "code",
      "execution_count": 2,
      "metadata": {
        "colab": {
          "base_uri": "https://localhost:8080/"
        },
        "id": "C43yXX13bfHe",
        "outputId": "d5b2744e-8f94-4fea-bb23-a59ab4bf83c6"
      },
      "outputs": [
        {
          "output_type": "execute_result",
          "data": {
            "text/plain": [
              "array([[1, 0, 4],\n",
              "       [1, 1, 7],\n",
              "       [4, 1, 1]])"
            ]
          },
          "metadata": {},
          "execution_count": 2
        }
      ],
      "source": [
        "import numpy as np\n",
        "data=np.random.randint(0,10,(3,3))\n",
        "data"
      ]
    },
    {
      "cell_type": "code",
      "source": [
        "np.random.randn(3,3)"
      ],
      "metadata": {
        "id": "aDnmxojhbolF",
        "colab": {
          "base_uri": "https://localhost:8080/"
        },
        "outputId": "c354728f-259f-4345-db84-6dd362de2a5d"
      },
      "execution_count": 3,
      "outputs": [
        {
          "output_type": "execute_result",
          "data": {
            "text/plain": [
              "array([[-0.26891497, -1.55978408, -0.01873502],\n",
              "       [-0.46158363, -2.50592973,  0.09200724],\n",
              "       [ 1.82703434,  0.06056577, -1.18447995]])"
            ]
          },
          "metadata": {},
          "execution_count": 3
        }
      ]
    },
    {
      "cell_type": "code",
      "source": [
        "np.random.randn(30,30).std()"
      ],
      "metadata": {
        "colab": {
          "base_uri": "https://localhost:8080/"
        },
        "id": "FJpWJjW9DkKA",
        "outputId": "28c51033-abf8-4eb7-c4c9-44c609c669c5"
      },
      "execution_count": 4,
      "outputs": [
        {
          "output_type": "execute_result",
          "data": {
            "text/plain": [
              "np.float64(0.9718259737848453)"
            ]
          },
          "metadata": {},
          "execution_count": 4
        }
      ]
    },
    {
      "cell_type": "code",
      "source": [
        "np.random.randn(30,30).mean()"
      ],
      "metadata": {
        "colab": {
          "base_uri": "https://localhost:8080/"
        },
        "id": "1OmlKdduDbP3",
        "outputId": "744f42b7-a8ae-49db-a40c-dbff3d05dd11"
      },
      "execution_count": 5,
      "outputs": [
        {
          "output_type": "execute_result",
          "data": {
            "text/plain": [
              "np.float64(0.0166684310902666)"
            ]
          },
          "metadata": {},
          "execution_count": 5
        }
      ]
    },
    {
      "cell_type": "code",
      "source": [
        "#matrix\n",
        "np.mean\n",
        "std\n",
        "np.var\n",
        "np.median"
      ],
      "metadata": {
        "id": "5SsEewTQd4l3"
      },
      "execution_count": null,
      "outputs": []
    },
    {
      "cell_type": "code",
      "source": [
        "#mean-sum of all elements/total number of elements(numerical value)\n",
        "#median-taking order if odd then cenetr or even avg of two middle element(numerical)\n",
        "#mode-most frequented repeated values(categorical like gender)\n",
        "##mean-when you dont have outlayers\n",
        "##median-when you have outlayers(real time use)\n",
        "##mode _data is categorical(gender,countrycode)\n"
      ],
      "metadata": {
        "id": "mHbc21EIboh1"
      },
      "execution_count": null,
      "outputs": []
    },
    {
      "cell_type": "code",
      "source": [
        "###std-standard_deviation\n",
        "###variance"
      ],
      "metadata": {
        "id": "TR0gNtQnboe0"
      },
      "execution_count": null,
      "outputs": []
    },
    {
      "cell_type": "code",
      "source": [
        "import numpy as np\n",
        "data=np.random.randint(0,5,(3,3))\n",
        "data"
      ],
      "metadata": {
        "id": "zeLxedXDboa6",
        "colab": {
          "base_uri": "https://localhost:8080/"
        },
        "outputId": "41cedeed-fbe6-48b6-8205-93f17288f836"
      },
      "execution_count": 6,
      "outputs": [
        {
          "output_type": "execute_result",
          "data": {
            "text/plain": [
              "array([[1, 2, 4],\n",
              "       [3, 3, 0],\n",
              "       [2, 4, 4]])"
            ]
          },
          "metadata": {},
          "execution_count": 6
        }
      ]
    },
    {
      "cell_type": "code",
      "source": [
        "data.sum(axis=1 )"
      ],
      "metadata": {
        "id": "3pa64EbGboXl",
        "colab": {
          "base_uri": "https://localhost:8080/"
        },
        "outputId": "5f450eb4-2804-4d6c-a769-0f73cdaf918f"
      },
      "execution_count": 7,
      "outputs": [
        {
          "output_type": "execute_result",
          "data": {
            "text/plain": [
              "array([ 7,  6, 10])"
            ]
          },
          "metadata": {},
          "execution_count": 7
        }
      ]
    },
    {
      "cell_type": "code",
      "source": [
        "data.max(axis=0)"
      ],
      "metadata": {
        "id": "a8NzEwdiboRc",
        "colab": {
          "base_uri": "https://localhost:8080/"
        },
        "outputId": "ced5bc7d-a2bd-4b09-b9e9-fa4c205381b0"
      },
      "execution_count": 8,
      "outputs": [
        {
          "output_type": "execute_result",
          "data": {
            "text/plain": [
              "array([3, 4, 4])"
            ]
          },
          "metadata": {},
          "execution_count": 8
        }
      ]
    },
    {
      "cell_type": "code",
      "source": [
        "data.min(axis=1)"
      ],
      "metadata": {
        "id": "12Za6IcaboDE",
        "colab": {
          "base_uri": "https://localhost:8080/"
        },
        "outputId": "d20792df-5ebc-4b27-ec22-37ec5dd453b2"
      },
      "execution_count": 9,
      "outputs": [
        {
          "output_type": "execute_result",
          "data": {
            "text/plain": [
              "array([1, 0, 2])"
            ]
          },
          "metadata": {},
          "execution_count": 9
        }
      ]
    },
    {
      "cell_type": "code",
      "source": [
        "data"
      ],
      "metadata": {
        "colab": {
          "base_uri": "https://localhost:8080/"
        },
        "id": "BxYuiBwnTR84",
        "outputId": "6a9c485b-bc45-4cdc-d606-add442a77e7e"
      },
      "execution_count": 10,
      "outputs": [
        {
          "output_type": "execute_result",
          "data": {
            "text/plain": [
              "array([[1, 2, 4],\n",
              "       [3, 3, 0],\n",
              "       [2, 4, 4]])"
            ]
          },
          "metadata": {},
          "execution_count": 10
        }
      ]
    },
    {
      "cell_type": "code",
      "source": [
        "data[0:2,0:2].max()"
      ],
      "metadata": {
        "colab": {
          "base_uri": "https://localhost:8080/"
        },
        "id": "c-rT1V2oTR5Z",
        "outputId": "0e6fc3ed-d819-461e-c30b-a7d81b443393"
      },
      "execution_count": 11,
      "outputs": [
        {
          "output_type": "execute_result",
          "data": {
            "text/plain": [
              "np.int64(3)"
            ]
          },
          "metadata": {},
          "execution_count": 11
        }
      ]
    },
    {
      "cell_type": "code",
      "source": [
        "data=np.random.randint(1,10,10)\n",
        "data"
      ],
      "metadata": {
        "colab": {
          "base_uri": "https://localhost:8080/"
        },
        "id": "YkKRA0gKTR2g",
        "outputId": "8c60b5ac-24d5-42ac-f7e2-9056da16a46f"
      },
      "execution_count": 23,
      "outputs": [
        {
          "output_type": "execute_result",
          "data": {
            "text/plain": [
              "array([2, 7, 4, 8, 9, 9, 9, 3, 7, 8])"
            ]
          },
          "metadata": {},
          "execution_count": 23
        }
      ]
    },
    {
      "cell_type": "code",
      "source": [
        "np.int64(1)"
      ],
      "metadata": {
        "colab": {
          "base_uri": "https://localhost:8080/"
        },
        "id": "wElq_8QpTRzu",
        "outputId": "a4855422-399b-4e6c-8890-af1cd958ea6b"
      },
      "execution_count": 19,
      "outputs": [
        {
          "output_type": "execute_result",
          "data": {
            "text/plain": [
              "np.int64(1)"
            ]
          },
          "metadata": {},
          "execution_count": 19
        }
      ]
    },
    {
      "cell_type": "code",
      "source": [
        "data.min()"
      ],
      "metadata": {
        "colab": {
          "base_uri": "https://localhost:8080/"
        },
        "id": "zGEV1y8gUDh6",
        "outputId": "b7d52ef6-e5c0-4764-f401-4ee61333b44f"
      },
      "execution_count": 24,
      "outputs": [
        {
          "output_type": "execute_result",
          "data": {
            "text/plain": [
              "np.int64(2)"
            ]
          },
          "metadata": {},
          "execution_count": 24
        }
      ]
    },
    {
      "cell_type": "code",
      "source": [
        "data.argmin() #index of min value"
      ],
      "metadata": {
        "colab": {
          "base_uri": "https://localhost:8080/"
        },
        "id": "exDDsXSjTyBH",
        "outputId": "0556a86e-309a-4463-8c02-77fd382cea4c"
      },
      "execution_count": 25,
      "outputs": [
        {
          "output_type": "execute_result",
          "data": {
            "text/plain": [
              "np.int64(0)"
            ]
          },
          "metadata": {},
          "execution_count": 25
        }
      ]
    },
    {
      "cell_type": "code",
      "source": [
        "data.argmax()"
      ],
      "metadata": {
        "colab": {
          "base_uri": "https://localhost:8080/"
        },
        "id": "wRR6_BBETx8y",
        "outputId": "aa8979d6-95b8-4131-830e-75e6b1a469c4"
      },
      "execution_count": 26,
      "outputs": [
        {
          "output_type": "execute_result",
          "data": {
            "text/plain": [
              "np.int64(4)"
            ]
          },
          "metadata": {},
          "execution_count": 26
        }
      ]
    },
    {
      "cell_type": "code",
      "source": [
        "data=np.random.randint(0,100,(3,3))\n",
        "#data.argmin(axis=1)\n",
        "data"
      ],
      "metadata": {
        "colab": {
          "base_uri": "https://localhost:8080/"
        },
        "id": "G_sTpDQ0Tx6j",
        "outputId": "9aff45e7-0dd3-41f9-b273-bc018859dc9b"
      },
      "execution_count": 28,
      "outputs": [
        {
          "output_type": "execute_result",
          "data": {
            "text/plain": [
              "array([[ 7,  6, 98],\n",
              "       [56,  9, 17],\n",
              "       [23, 19, 34]])"
            ]
          },
          "metadata": {},
          "execution_count": 28
        }
      ]
    },
    {
      "cell_type": "code",
      "source": [
        "data.argmin(axis=1)"
      ],
      "metadata": {
        "colab": {
          "base_uri": "https://localhost:8080/"
        },
        "id": "PZ2X8xSiTx37",
        "outputId": "186e67b8-4e0d-4872-c100-3eae594028d4"
      },
      "execution_count": 32,
      "outputs": [
        {
          "output_type": "execute_result",
          "data": {
            "text/plain": [
              "array([1, 1, 1])"
            ]
          },
          "metadata": {},
          "execution_count": 32
        }
      ]
    },
    {
      "cell_type": "code",
      "source": [
        "data"
      ],
      "metadata": {
        "colab": {
          "base_uri": "https://localhost:8080/"
        },
        "id": "t8nZKKmdTx1e",
        "outputId": "0564296f-de26-4d62-c240-df10481b3146"
      },
      "execution_count": 30,
      "outputs": [
        {
          "output_type": "execute_result",
          "data": {
            "text/plain": [
              "array([[ 7,  6, 98],\n",
              "       [56,  9, 17],\n",
              "       [23, 19, 34]])"
            ]
          },
          "metadata": {},
          "execution_count": 30
        }
      ]
    },
    {
      "cell_type": "code",
      "source": [
        "data.argmax(axis=1)"
      ],
      "metadata": {
        "colab": {
          "base_uri": "https://localhost:8080/"
        },
        "id": "WI98rnKtTxzQ",
        "outputId": "cb309cd3-2173-424d-a6c5-2742ea3f1010"
      },
      "execution_count": 31,
      "outputs": [
        {
          "output_type": "execute_result",
          "data": {
            "text/plain": [
              "array([2, 0, 2])"
            ]
          },
          "metadata": {},
          "execution_count": 31
        }
      ]
    },
    {
      "cell_type": "code",
      "source": [
        "import numpy as np\n",
        "\n",
        "# Manually created array: [Store ID, Sales, Customers, Inventory, Returns]\n",
        "retail_data = np.array([\n",
        "    [1, 25000, 300, 1200, 10],\n",
        "    [2, 32000, 450, 1500, 15],\n",
        "    [3, 28000, 380, 1100, 8],\n",
        "    [4, 41000, 500, 1600, 20],\n",
        "    [5, 35000, 420, 1400, 12],\n",
        "    [6, 27000, 360, 1300, 9],\n",
        "    [7, 39000, 480, 1700, 18],\n",
        "    [8, 30000, 400, 1250, 14],\n",
        "    [9, 45000, 550, 1800, 25],\n",
        "    [10, 33000, 410, 1450, 11]\n",
        "])\n",
        "\n",
        "print(retail_data)\n"
      ],
      "metadata": {
        "colab": {
          "base_uri": "https://localhost:8080/"
        },
        "id": "HH_HN8yOTxxA",
        "outputId": "b9f1ba2f-374a-41fa-9d17-61f6dc6a9e13"
      },
      "execution_count": 33,
      "outputs": [
        {
          "output_type": "stream",
          "name": "stdout",
          "text": [
            "[[    1 25000   300  1200    10]\n",
            " [    2 32000   450  1500    15]\n",
            " [    3 28000   380  1100     8]\n",
            " [    4 41000   500  1600    20]\n",
            " [    5 35000   420  1400    12]\n",
            " [    6 27000   360  1300     9]\n",
            " [    7 39000   480  1700    18]\n",
            " [    8 30000   400  1250    14]\n",
            " [    9 45000   550  1800    25]\n",
            " [   10 33000   410  1450    11]]\n"
          ]
        }
      ]
    },
    {
      "cell_type": "code",
      "source": [
        "retail_data"
      ],
      "metadata": {
        "colab": {
          "base_uri": "https://localhost:8080/"
        },
        "id": "V-c8KEoOXwXb",
        "outputId": "f43b0755-79df-4319-80f0-ceb1115aa96d"
      },
      "execution_count": 34,
      "outputs": [
        {
          "output_type": "execute_result",
          "data": {
            "text/plain": [
              "array([[    1, 25000,   300,  1200,    10],\n",
              "       [    2, 32000,   450,  1500,    15],\n",
              "       [    3, 28000,   380,  1100,     8],\n",
              "       [    4, 41000,   500,  1600,    20],\n",
              "       [    5, 35000,   420,  1400,    12],\n",
              "       [    6, 27000,   360,  1300,     9],\n",
              "       [    7, 39000,   480,  1700,    18],\n",
              "       [    8, 30000,   400,  1250,    14],\n",
              "       [    9, 45000,   550,  1800,    25],\n",
              "       [   10, 33000,   410,  1450,    11]])"
            ]
          },
          "metadata": {},
          "execution_count": 34
        }
      ]
    },
    {
      "cell_type": "code",
      "source": [
        "retail_data[:,1]"
      ],
      "metadata": {
        "colab": {
          "base_uri": "https://localhost:8080/"
        },
        "id": "1zRVb1oVXwUE",
        "outputId": "2234ebec-d551-4cff-bf5b-11d4f08d7ad0"
      },
      "execution_count": 37,
      "outputs": [
        {
          "output_type": "execute_result",
          "data": {
            "text/plain": [
              "array([25000, 32000, 28000, 41000, 35000, 27000, 39000, 30000, 45000,\n",
              "       33000])"
            ]
          },
          "metadata": {},
          "execution_count": 37
        }
      ]
    },
    {
      "cell_type": "code",
      "source": [
        "retail_data[:,1].sum()"
      ],
      "metadata": {
        "colab": {
          "base_uri": "https://localhost:8080/"
        },
        "id": "2m2OSY6FXwR2",
        "outputId": "8094441f-d916-41ad-8990-5a279ea8d30d"
      },
      "execution_count": 38,
      "outputs": [
        {
          "output_type": "execute_result",
          "data": {
            "text/plain": [
              "np.int64(335000)"
            ]
          },
          "metadata": {},
          "execution_count": 38
        }
      ]
    },
    {
      "cell_type": "code",
      "source": [
        "retail_data[:,3].max()"
      ],
      "metadata": {
        "colab": {
          "base_uri": "https://localhost:8080/"
        },
        "id": "dmqhV3iOXwPN",
        "outputId": "1616f95b-c273-4a67-a196-a77a2e3f2420"
      },
      "execution_count": 40,
      "outputs": [
        {
          "output_type": "execute_result",
          "data": {
            "text/plain": [
              "np.int64(1800)"
            ]
          },
          "metadata": {},
          "execution_count": 40
        }
      ]
    },
    {
      "cell_type": "code",
      "source": [
        "retail_data[:,3].argmax()+1"
      ],
      "metadata": {
        "colab": {
          "base_uri": "https://localhost:8080/"
        },
        "id": "R8RW5_A1X0nj",
        "outputId": "c1a79521-c24d-4cf9-9781-fc1cc0291fbd"
      },
      "execution_count": 42,
      "outputs": [
        {
          "output_type": "execute_result",
          "data": {
            "text/plain": [
              "np.int64(9)"
            ]
          },
          "metadata": {},
          "execution_count": 42
        }
      ]
    },
    {
      "cell_type": "code",
      "source": [
        "sales/Customers\n",
        "sales/transaction : basket value\n",
        "sales/unit :basket size"
      ],
      "metadata": {
        "id": "O3WECxLHX0kG"
      },
      "execution_count": null,
      "outputs": []
    },
    {
      "cell_type": "code",
      "source": [
        "data=np.random.randint(0,10,3)\n",
        "x=20"
      ],
      "metadata": {
        "id": "zr0fa_5hX0iP"
      },
      "execution_count": 44,
      "outputs": []
    },
    {
      "cell_type": "code",
      "source": [
        "data"
      ],
      "metadata": {
        "colab": {
          "base_uri": "https://localhost:8080/"
        },
        "id": "jW47GBIUX0fL",
        "outputId": "2f63e40f-7f5f-4c86-898e-478ee670927a"
      },
      "execution_count": 45,
      "outputs": [
        {
          "output_type": "execute_result",
          "data": {
            "text/plain": [
              "array([9, 7, 2])"
            ]
          },
          "metadata": {},
          "execution_count": 45
        }
      ]
    },
    {
      "cell_type": "code",
      "source": [
        "data+x"
      ],
      "metadata": {
        "colab": {
          "base_uri": "https://localhost:8080/"
        },
        "id": "p1C1eJv-X0be",
        "outputId": "6d1e68f7-9d2b-4880-bd9d-a7780300ac48"
      },
      "execution_count": 46,
      "outputs": [
        {
          "output_type": "execute_result",
          "data": {
            "text/plain": [
              "array([29, 27, 22])"
            ]
          },
          "metadata": {},
          "execution_count": 46
        }
      ]
    },
    {
      "cell_type": "code",
      "source": [
        "data"
      ],
      "metadata": {
        "colab": {
          "base_uri": "https://localhost:8080/"
        },
        "id": "mCrTZOoLX0Zl",
        "outputId": "c0bba2f6-ba63-49fb-c394-69c7a9a93c81"
      },
      "execution_count": 47,
      "outputs": [
        {
          "output_type": "execute_result",
          "data": {
            "text/plain": [
              "array([9, 7, 2])"
            ]
          },
          "metadata": {},
          "execution_count": 47
        }
      ]
    },
    {
      "cell_type": "code",
      "source": [
        "x=np.random.randint(0,10,(3,3))\n",
        "y=np.random.randint(0,10,(3,1))\n",
        "x+y"
      ],
      "metadata": {
        "colab": {
          "base_uri": "https://localhost:8080/"
        },
        "id": "NUaCaElPX0WJ",
        "outputId": "0ea92353-6736-4bec-f6b6-62a7a10823f5"
      },
      "execution_count": 48,
      "outputs": [
        {
          "output_type": "execute_result",
          "data": {
            "text/plain": [
              "array([[12, 15, 12],\n",
              "       [ 3,  6, 10],\n",
              "       [12,  8, 10]])"
            ]
          },
          "metadata": {},
          "execution_count": 48
        }
      ]
    },
    {
      "cell_type": "code",
      "source": [
        "x"
      ],
      "metadata": {
        "colab": {
          "base_uri": "https://localhost:8080/"
        },
        "id": "7H2BMnZLdv3I",
        "outputId": "34ccc0b2-7041-4171-8a44-7af905fd8c6d"
      },
      "execution_count": 49,
      "outputs": [
        {
          "output_type": "execute_result",
          "data": {
            "text/plain": [
              "array([[6, 9, 6],\n",
              "       [0, 3, 7],\n",
              "       [5, 1, 3]])"
            ]
          },
          "metadata": {},
          "execution_count": 49
        }
      ]
    },
    {
      "cell_type": "code",
      "source": [
        "y"
      ],
      "metadata": {
        "colab": {
          "base_uri": "https://localhost:8080/"
        },
        "id": "6HFAVwtodv0y",
        "outputId": "df498955-0442-4892-997f-1210ff088d20"
      },
      "execution_count": 50,
      "outputs": [
        {
          "output_type": "execute_result",
          "data": {
            "text/plain": [
              "array([[6],\n",
              "       [3],\n",
              "       [7]])"
            ]
          },
          "metadata": {},
          "execution_count": 50
        }
      ]
    },
    {
      "cell_type": "code",
      "source": [
        "x=np.random.randint(0,10,(3,3))\n",
        "y=np.random.randint(0,10,(1,3))\n",
        "x+y"
      ],
      "metadata": {
        "colab": {
          "base_uri": "https://localhost:8080/"
        },
        "id": "4XALa71Idvxe",
        "outputId": "060670be-f9f9-4f7a-bfc7-f4da0e24c2c1"
      },
      "execution_count": 51,
      "outputs": [
        {
          "output_type": "execute_result",
          "data": {
            "text/plain": [
              "array([[ 9,  7,  8],\n",
              "       [ 1, 10, 12],\n",
              "       [ 2, 13, 15]])"
            ]
          },
          "metadata": {},
          "execution_count": 51
        }
      ]
    },
    {
      "cell_type": "code",
      "source": [
        "x"
      ],
      "metadata": {
        "colab": {
          "base_uri": "https://localhost:8080/"
        },
        "id": "XOGWyqTEePZN",
        "outputId": "0a8ed1da-c8a4-41c6-a286-15d80d898020"
      },
      "execution_count": 56,
      "outputs": [
        {
          "output_type": "execute_result",
          "data": {
            "text/plain": [
              "array([[9, 2, 0],\n",
              "       [1, 5, 4],\n",
              "       [2, 8, 7]])"
            ]
          },
          "metadata": {},
          "execution_count": 56
        }
      ]
    },
    {
      "cell_type": "code",
      "source": [
        "y"
      ],
      "metadata": {
        "colab": {
          "base_uri": "https://localhost:8080/"
        },
        "id": "-2lPaN7mePV0",
        "outputId": "5afcd494-f1f4-48e9-9b4d-dc772a864b7f"
      },
      "execution_count": 57,
      "outputs": [
        {
          "output_type": "execute_result",
          "data": {
            "text/plain": [
              "array([[0, 5, 8]])"
            ]
          },
          "metadata": {},
          "execution_count": 57
        }
      ]
    },
    {
      "cell_type": "code",
      "source": [
        "x=np.random.randint(0,10,(3,1))\n",
        "y=np.random.randint(0,10,(1,3))"
      ],
      "metadata": {
        "id": "2TBK3xXLePTF"
      },
      "execution_count": 60,
      "outputs": []
    },
    {
      "cell_type": "code",
      "source": [
        "x"
      ],
      "metadata": {
        "colab": {
          "base_uri": "https://localhost:8080/"
        },
        "id": "rgguMOujePQp",
        "outputId": "c66db7bf-9ffc-42fb-a7e9-8d3bb92d015d"
      },
      "execution_count": 61,
      "outputs": [
        {
          "output_type": "execute_result",
          "data": {
            "text/plain": [
              "array([[6],\n",
              "       [6],\n",
              "       [8]])"
            ]
          },
          "metadata": {},
          "execution_count": 61
        }
      ]
    },
    {
      "cell_type": "code",
      "source": [
        "y"
      ],
      "metadata": {
        "colab": {
          "base_uri": "https://localhost:8080/"
        },
        "id": "utwMicgKePNl",
        "outputId": "c490b956-2ce0-45ec-ec30-09bf7d1b23ae"
      },
      "execution_count": 62,
      "outputs": [
        {
          "output_type": "execute_result",
          "data": {
            "text/plain": [
              "array([[8, 8, 5]])"
            ]
          },
          "metadata": {},
          "execution_count": 62
        }
      ]
    },
    {
      "cell_type": "code",
      "source": [
        "x+y"
      ],
      "metadata": {
        "colab": {
          "base_uri": "https://localhost:8080/"
        },
        "id": "Uw2AMV-8ePKo",
        "outputId": "2935a0e4-4453-4ad2-ea3c-8d70735aab4c"
      },
      "execution_count": 63,
      "outputs": [
        {
          "output_type": "execute_result",
          "data": {
            "text/plain": [
              "array([[14, 14, 11],\n",
              "       [14, 14, 11],\n",
              "       [16, 16, 13]])"
            ]
          },
          "metadata": {},
          "execution_count": 63
        }
      ]
    },
    {
      "cell_type": "code",
      "source": [],
      "metadata": {
        "id": "DBRumOHMePFx"
      },
      "execution_count": null,
      "outputs": []
    }
  ]
}