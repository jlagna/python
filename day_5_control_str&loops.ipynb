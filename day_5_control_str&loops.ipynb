{
  "nbformat": 4,
  "nbformat_minor": 0,
  "metadata": {
    "colab": {
      "provenance": []
    },
    "kernelspec": {
      "name": "python3",
      "display_name": "Python 3"
    },
    "language_info": {
      "name": "python"
    }
  },
  "cells": [
    {
      "cell_type": "code",
      "execution_count": null,
      "metadata": {
        "id": "aPzZr_WnNh7E"
      },
      "outputs": [],
      "source": [
        "if\n",
        "if else\n",
        "if elif else\n",
        "for\n",
        "while\n",
        "continue\n",
        "break"
      ]
    },
    {
      "cell_type": "code",
      "source": [
        "x=10\n",
        "if x>5:\n",
        "  print(\"test\")\n",
        "  print(\"test2\")"
      ],
      "metadata": {
        "colab": {
          "base_uri": "https://localhost:8080/"
        },
        "id": "9lAoOWnRO17G",
        "outputId": "5a338c9d-5ead-4a22-e29b-314f48d95542"
      },
      "execution_count": null,
      "outputs": [
        {
          "output_type": "stream",
          "name": "stdout",
          "text": [
            "test\n",
            "test2\n"
          ]
        }
      ]
    },
    {
      "cell_type": "code",
      "source": [
        "x=2+3\n",
        "y=15\n",
        "print(x+y)"
      ],
      "metadata": {
        "colab": {
          "base_uri": "https://localhost:8080/"
        },
        "id": "ql5XCg5APDow",
        "outputId": "b35e4506-9939-4f40-add7-186439d98b17"
      },
      "execution_count": null,
      "outputs": [
        {
          "output_type": "stream",
          "name": "stdout",
          "text": [
            "20\n"
          ]
        }
      ]
    },
    {
      "cell_type": "code",
      "source": [
        "x=\"Data\"\n",
        "if not(len(x)%2==0 and x.startswith(\"D\")):\n",
        "  print(\"data\")"
      ],
      "metadata": {
        "id": "BFBOIoifO13o"
      },
      "execution_count": null,
      "outputs": []
    },
    {
      "cell_type": "code",
      "source": [
        "if 1:\n",
        "  print(\"data\")"
      ],
      "metadata": {
        "colab": {
          "base_uri": "https://localhost:8080/"
        },
        "id": "wvB4hOl_O11A",
        "outputId": "53bd8900-9711-4d32-963c-408d74674955"
      },
      "execution_count": null,
      "outputs": [
        {
          "output_type": "stream",
          "name": "stdout",
          "text": [
            "data\n"
          ]
        }
      ]
    },
    {
      "cell_type": "code",
      "source": [
        "x=2\n",
        "if x>10:\n",
        "  print(\"data\")\n",
        "else:\n",
        "  print(\"data science\")"
      ],
      "metadata": {
        "colab": {
          "base_uri": "https://localhost:8080/"
        },
        "id": "z_ZgW3qLQz3X",
        "outputId": "ac93d437-e283-4209-88be-dc8b7ac3286e"
      },
      "execution_count": null,
      "outputs": [
        {
          "output_type": "stream",
          "name": "stdout",
          "text": [
            "data science\n"
          ]
        }
      ]
    },
    {
      "cell_type": "code",
      "source": [
        "x=float(input())\n",
        "if x>=80:\n",
        "  print(\"grade 1\")\n",
        "elif x>60 and x<80:\n",
        "  print(\"grade 2\")\n",
        "else:\n",
        "  print(\"fail\")"
      ],
      "metadata": {
        "colab": {
          "base_uri": "https://localhost:8080/"
        },
        "id": "M0lj6Hg4O1yb",
        "outputId": "bdac5b95-af59-47d1-a541-39515d3ec4eb"
      },
      "execution_count": null,
      "outputs": [
        {
          "output_type": "stream",
          "name": "stdout",
          "text": [
            "-1\n",
            "fail\n"
          ]
        }
      ]
    },
    {
      "cell_type": "code",
      "source": [
        "x=float(input())\n",
        "x"
      ],
      "metadata": {
        "colab": {
          "base_uri": "https://localhost:8080/"
        },
        "id": "CCfnWCfLO1wU",
        "outputId": "d181427b-4abd-47fd-fb5c-11bfece0f696"
      },
      "execution_count": null,
      "outputs": [
        {
          "name": "stdout",
          "output_type": "stream",
          "text": [
            "10\n"
          ]
        },
        {
          "output_type": "execute_result",
          "data": {
            "text/plain": [
              "10.0"
            ]
          },
          "metadata": {},
          "execution_count": 15
        }
      ]
    },
    {
      "cell_type": "code",
      "source": [],
      "metadata": {
        "id": "LmRZRR9aUTH9"
      },
      "execution_count": null,
      "outputs": []
    },
    {
      "cell_type": "code",
      "source": [
        "num=int(input(\"enter a number: \"))\n",
        "if num > 0:\n",
        "  print(\"positive\")\n",
        "elif num < 0:\n",
        "  print(\"negative\")\n",
        "else:\n",
        "  print(\"zero\")"
      ],
      "metadata": {
        "colab": {
          "base_uri": "https://localhost:8080/"
        },
        "id": "Vu75N9c9O1sN",
        "outputId": "6eba7836-e6be-4aa5-e3dd-baceb81acd99"
      },
      "execution_count": null,
      "outputs": [
        {
          "output_type": "stream",
          "name": "stdout",
          "text": [
            "enter a number: -3\n",
            "negative\n"
          ]
        }
      ]
    },
    {
      "cell_type": "code",
      "source": [
        "num=int(input(\"enter a number\"))\n",
        "if num%2==0:\n",
        "  print(\"even number\")\n",
        "else:\n",
        "  print(\"odd number\")"
      ],
      "metadata": {
        "colab": {
          "base_uri": "https://localhost:8080/"
        },
        "id": "-XCvDz-5UT5c",
        "outputId": "e7585cb6-4281-4708-c2b6-aa73d14f906c"
      },
      "execution_count": null,
      "outputs": [
        {
          "output_type": "stream",
          "name": "stdout",
          "text": [
            "enter a number53\n",
            "odd number\n"
          ]
        }
      ]
    },
    {
      "cell_type": "code",
      "source": [
        "marks=int(input(\"enter your marks\"))\n",
        "if marks>=99:\n",
        "  print(\"grade:A\")\n",
        "elif marks>=75:\n",
        "  print(\"grade:B\")\n",
        "elif marks>=50:\n",
        "  print(\"grade:C\")\n",
        "else:\n",
        " print(\"grade:F\")"
      ],
      "metadata": {
        "colab": {
          "base_uri": "https://localhost:8080/"
        },
        "id": "o54yRumvO1qE",
        "outputId": "60a44ce6-8c84-4f40-a8ff-610d60f8735f"
      },
      "execution_count": null,
      "outputs": [
        {
          "output_type": "stream",
          "name": "stdout",
          "text": [
            "enter your marks1000\n",
            "grade:A\n"
          ]
        }
      ]
    },
    {
      "cell_type": "code",
      "source": [
        "char=input(\"enter a single letter:\").lower()\n",
        "if char in 'aeiou':\n",
        "  print(\"vowel\")\n",
        "else:\n",
        "  print(\"consonannt\")"
      ],
      "metadata": {
        "colab": {
          "base_uri": "https://localhost:8080/"
        },
        "id": "AneNQvBnO1nq",
        "outputId": "90114748-94ff-4692-fa4a-e476b5748283"
      },
      "execution_count": null,
      "outputs": [
        {
          "output_type": "stream",
          "name": "stdout",
          "text": [
            "enter a single letter:o\n",
            "vowel\n"
          ]
        }
      ]
    },
    {
      "cell_type": "code",
      "source": [
        "username = input(\"enter a username:\")\n",
        "if len(username)<5:\n",
        "  print(\"its too sort\")\n",
        "elif len(username)>15:\n",
        "  print(\"its too long\")\n",
        "else:\n",
        "  print('valid username')"
      ],
      "metadata": {
        "colab": {
          "base_uri": "https://localhost:8080/"
        },
        "id": "sAU_e_VBO1lU",
        "outputId": "6ed98275-fbf8-4d1d-816f-b3f2bd7b3671"
      },
      "execution_count": null,
      "outputs": [
        {
          "output_type": "stream",
          "name": "stdout",
          "text": [
            "enter a username:lucky\n",
            "valid username\n"
          ]
        }
      ]
    },
    {
      "cell_type": "code",
      "source": [
        "\"data science\".split()"
      ],
      "metadata": {
        "colab": {
          "base_uri": "https://localhost:8080/"
        },
        "id": "yE2FhwGEO1i7",
        "outputId": "8097f52b-c977-477f-d09a-b510b4d28f6f"
      },
      "execution_count": null,
      "outputs": [
        {
          "output_type": "execute_result",
          "data": {
            "text/plain": [
              "['data', 'science']"
            ]
          },
          "metadata": {},
          "execution_count": 11
        }
      ]
    },
    {
      "cell_type": "code",
      "source": [
        "\"data science\".split(\"a\")"
      ],
      "metadata": {
        "colab": {
          "base_uri": "https://localhost:8080/"
        },
        "id": "mWDBJu6bO1ge",
        "outputId": "088fc6ff-aed1-42c4-b107-04691d349ebd"
      },
      "execution_count": null,
      "outputs": [
        {
          "output_type": "execute_result",
          "data": {
            "text/plain": [
              "['d', 't', ' science']"
            ]
          },
          "metadata": {},
          "execution_count": 13
        }
      ]
    },
    {
      "cell_type": "code",
      "source": [
        "for i in \"data756\":\n",
        "  if i.isalpha():\n",
        "    print(i,end=',')"
      ],
      "metadata": {
        "colab": {
          "base_uri": "https://localhost:8080/"
        },
        "id": "NGcpV5NmO1eI",
        "outputId": "2ce24af2-ff36-4355-e315-e32b5e2cd4b8"
      },
      "execution_count": null,
      "outputs": [
        {
          "output_type": "stream",
          "name": "stdout",
          "text": [
            "d,a,t,a,"
          ]
        }
      ]
    },
    {
      "cell_type": "code",
      "source": [
        "\"1\"+\"1\"+\"data\""
      ],
      "metadata": {
        "colab": {
          "base_uri": "https://localhost:8080/",
          "height": 35
        },
        "id": "ByKA_eibO1bi",
        "outputId": "515c94a0-16ff-4270-946d-86cc2ecf2d10"
      },
      "execution_count": null,
      "outputs": [
        {
          "output_type": "execute_result",
          "data": {
            "text/plain": [
              "'11data'"
            ],
            "application/vnd.google.colaboratory.intrinsic+json": {
              "type": "string"
            }
          },
          "metadata": {},
          "execution_count": 15
        }
      ]
    },
    {
      "cell_type": "code",
      "source": [
        "for i in range(1,10,2):\n",
        "  print(i,end=',')"
      ],
      "metadata": {
        "colab": {
          "base_uri": "https://localhost:8080/"
        },
        "id": "x_JeBfoJO1ZC",
        "outputId": "eb9baf5d-bc3b-4097-e844-c353bf544be9"
      },
      "execution_count": null,
      "outputs": [
        {
          "output_type": "stream",
          "name": "stdout",
          "text": [
            "1,3,5,7,9,"
          ]
        }
      ]
    },
    {
      "cell_type": "code",
      "source": [
        "for i in range(10,0,-3):\n",
        "  print(i,end=',')"
      ],
      "metadata": {
        "colab": {
          "base_uri": "https://localhost:8080/"
        },
        "id": "RiznROv3O1XB",
        "outputId": "1404663b-232e-4985-d0aa-34662c305739"
      },
      "execution_count": null,
      "outputs": [
        {
          "output_type": "stream",
          "name": "stdout",
          "text": [
            "10,7,4,1,"
          ]
        }
      ]
    },
    {
      "cell_type": "code",
      "source": [
        "for i in range(1,6):\n",
        "  print(\"*\"*(6-i))"
      ],
      "metadata": {
        "colab": {
          "base_uri": "https://localhost:8080/"
        },
        "id": "dpajl_jZxBU3",
        "outputId": "b7fd598a-4b99-4bd2-e599-27aaac7e2c58"
      },
      "execution_count": 4,
      "outputs": [
        {
          "output_type": "stream",
          "name": "stdout",
          "text": [
            "*****\n",
            "****\n",
            "***\n",
            "**\n",
            "*\n"
          ]
        }
      ]
    },
    {
      "cell_type": "code",
      "source": [
        "for i in range(5,0,-1):\n",
        "  print(\"*\"*i)"
      ],
      "metadata": {
        "colab": {
          "base_uri": "https://localhost:8080/"
        },
        "id": "_-PZoXqnO1Uv",
        "outputId": "cc2d31af-3831-4b5e-bf81-820994bba504"
      },
      "execution_count": null,
      "outputs": [
        {
          "output_type": "stream",
          "name": "stdout",
          "text": [
            "*****\n",
            "****\n",
            "***\n",
            "**\n",
            "*\n"
          ]
        }
      ]
    },
    {
      "cell_type": "code",
      "source": [
        "for i in range(1,6):\n",
        "  print(\"*\"*(6-i))"
      ],
      "metadata": {
        "colab": {
          "base_uri": "https://localhost:8080/"
        },
        "id": "RHhQcO7tO1Ph",
        "outputId": "ab0897c4-adf1-4e51-c3db-c78f3c91358d"
      },
      "execution_count": null,
      "outputs": [
        {
          "output_type": "stream",
          "name": "stdout",
          "text": [
            "*****\n",
            "****\n",
            "***\n",
            "**\n",
            "*\n"
          ]
        }
      ]
    },
    {
      "cell_type": "code",
      "source": [
        "customer_review"
      ],
      "metadata": {
        "colab": {
          "base_uri": "https://localhost:8080/",
          "height": 141
        },
        "id": "N1uWiRW4K50Y",
        "outputId": "3676ee54-bf99-4197-d96c-b503aa15e262"
      },
      "execution_count": null,
      "outputs": [
        {
          "output_type": "error",
          "ename": "NameError",
          "evalue": "name 'customer_review' is not defined",
          "traceback": [
            "\u001b[0;31m---------------------------------------------------------------------------\u001b[0m",
            "\u001b[0;31mNameError\u001b[0m                                 Traceback (most recent call last)",
            "\u001b[0;32m/tmp/ipython-input-1015835411.py\u001b[0m in \u001b[0;36m<cell line: 0>\u001b[0;34m()\u001b[0m\n\u001b[0;32m----> 1\u001b[0;31m \u001b[0mcustomer_review\u001b[0m\u001b[0;34m\u001b[0m\u001b[0;34m\u001b[0m\u001b[0m\n\u001b[0m",
            "\u001b[0;31mNameError\u001b[0m: name 'customer_review' is not defined"
          ]
        }
      ]
    },
    {
      "cell_type": "code",
      "source": [
        "'customers find the laptop's build quality good, with one\n",
        "\\n noting its premium look and feel, and consider it\\n good value\n",
        " for money. Moreover, the sound quality\\n is acceptable, and\n",
        " they @find it suitable for student use. However, the performance\n",
        " receives mixed feedback, with some @finding it satisfying while others\n",
        " describe it as extremely bad. /nAdditionally, the fingerprint sensor is not available,\n",
        "and customers report poor battery performance.'"
      ],
      "metadata": {
        "colab": {
          "base_uri": "https://localhost:8080/",
          "height": 106
        },
        "id": "FxAKhnsAO1I-",
        "outputId": "c0316da6-8ce6-4734-b1d5-9e9753c30392"
      },
      "execution_count": null,
      "outputs": [
        {
          "output_type": "error",
          "ename": "SyntaxError",
          "evalue": "invalid syntax (ipython-input-537494929.py, line 1)",
          "traceback": [
            "\u001b[0;36m  File \u001b[0;32m\"/tmp/ipython-input-537494929.py\"\u001b[0;36m, line \u001b[0;32m1\u001b[0m\n\u001b[0;31m    'customers find the laptop's build quality good, with one\u001b[0m\n\u001b[0m                               ^\u001b[0m\n\u001b[0;31mSyntaxError\u001b[0m\u001b[0;31m:\u001b[0m invalid syntax\n"
          ]
        }
      ]
    },
    {
      "cell_type": "code",
      "source": [
        "for i in customer_review.split():\n",
        "  d[i]=len(i)"
      ],
      "metadata": {
        "colab": {
          "base_uri": "https://localhost:8080/",
          "height": 158
        },
        "id": "W6wEM4IUO1GL",
        "outputId": "0b4f995e-84a0-4b5a-cf4f-e8cab29e937a"
      },
      "execution_count": null,
      "outputs": [
        {
          "output_type": "error",
          "ename": "NameError",
          "evalue": "name 'customer_review' is not defined",
          "traceback": [
            "\u001b[0;31m---------------------------------------------------------------------------\u001b[0m",
            "\u001b[0;31mNameError\u001b[0m                                 Traceback (most recent call last)",
            "\u001b[0;32m/tmp/ipython-input-3161042252.py\u001b[0m in \u001b[0;36m<cell line: 0>\u001b[0;34m()\u001b[0m\n\u001b[0;32m----> 1\u001b[0;31m \u001b[0;32mfor\u001b[0m \u001b[0mi\u001b[0m \u001b[0;32min\u001b[0m \u001b[0mcustomer_review\u001b[0m\u001b[0;34m.\u001b[0m\u001b[0msplit\u001b[0m\u001b[0;34m(\u001b[0m\u001b[0;34m)\u001b[0m\u001b[0;34m:\u001b[0m\u001b[0;34m\u001b[0m\u001b[0;34m\u001b[0m\u001b[0m\n\u001b[0m\u001b[1;32m      2\u001b[0m   \u001b[0md\u001b[0m\u001b[0;34m[\u001b[0m\u001b[0mi\u001b[0m\u001b[0;34m]\u001b[0m\u001b[0;34m=\u001b[0m\u001b[0mlen\u001b[0m\u001b[0;34m(\u001b[0m\u001b[0mi\u001b[0m\u001b[0;34m)\u001b[0m\u001b[0;34m\u001b[0m\u001b[0;34m\u001b[0m\u001b[0m\n",
            "\u001b[0;31mNameError\u001b[0m: name 'customer_review' is not defined"
          ]
        }
      ]
    },
    {
      "cell_type": "code",
      "source": [
        "customer_review"
      ],
      "metadata": {
        "colab": {
          "base_uri": "https://localhost:8080/",
          "height": 141
        },
        "id": "M3FjYlOVO1Dv",
        "outputId": "09ce7541-08a2-4af1-b3dc-0dcc8d55b4d6"
      },
      "execution_count": null,
      "outputs": [
        {
          "output_type": "error",
          "ename": "NameError",
          "evalue": "name 'customer_review' is not defined",
          "traceback": [
            "\u001b[0;31m---------------------------------------------------------------------------\u001b[0m",
            "\u001b[0;31mNameError\u001b[0m                                 Traceback (most recent call last)",
            "\u001b[0;32m/tmp/ipython-input-1015835411.py\u001b[0m in \u001b[0;36m<cell line: 0>\u001b[0;34m()\u001b[0m\n\u001b[0;32m----> 1\u001b[0;31m \u001b[0mcustomer_review\u001b[0m\u001b[0;34m\u001b[0m\u001b[0;34m\u001b[0m\u001b[0m\n\u001b[0m",
            "\u001b[0;31mNameError\u001b[0m: name 'customer_review' is not defined"
          ]
        }
      ]
    },
    {
      "cell_type": "code",
      "source": [
        "customer_review='''customers find the laptop's build quality good, with one\n",
        "noting its premium look a@$@%@%nd feel, and consider it good value\n",
        " for money. Moreover, the sound quality is acceptable, and\n",
        " they find it suitable fo@$@4r student use. However, the performance\n",
        " receives mixed feedback, with some finding it satisfying while others\n",
        " describe it as extremely bad. Addit@@@%2ionally, the fingerprint sensor is not available,\n",
        "and cus24$@$@%tomers report poor battery performance.'''"
      ],
      "metadata": {
        "id": "c8MZdFneO1Aj"
      },
      "execution_count": 7,
      "outputs": []
    },
    {
      "cell_type": "code",
      "source": [
        "customer_review"
      ],
      "metadata": {
        "colab": {
          "base_uri": "https://localhost:8080/",
          "height": 122
        },
        "id": "O2qa1fqtO04R",
        "outputId": "63f47467-2f18-4e93-a866-e5ed047de8f8"
      },
      "execution_count": null,
      "outputs": [
        {
          "output_type": "execute_result",
          "data": {
            "text/plain": [
              "\"customers find the laptop's build quality good, with one\\nnoting its premium look a@$@%@%nd feel, and consider it good value\\n for money. Moreover, the sound quality is acceptable, and\\n they find it suitable fo@$@4r student use. However, the performance\\n receives mixed feedback, with some finding it satisfying while others\\n describe it as extremely bad. Addit@@@%2ionally, the fingerprint sensor is not available,\\nand cus24$@$@%tomers report poor battery performance.\""
            ],
            "application/vnd.google.colaboratory.intrinsic+json": {
              "type": "string"
            }
          },
          "metadata": {},
          "execution_count": 29
        }
      ]
    },
    {
      "cell_type": "code",
      "source": [
        "d={}\n",
        "for i in customer_review.split():\n",
        "  d[i]=len(i)"
      ],
      "metadata": {
        "id": "MISbfsktO0so"
      },
      "execution_count": 8,
      "outputs": []
    },
    {
      "cell_type": "code",
      "source": [
        "d"
      ],
      "metadata": {
        "colab": {
          "base_uri": "https://localhost:8080/"
        },
        "id": "xBaxgP1-NIpi",
        "outputId": "40a382b8-352e-4dc1-e676-f6704a6e46b6"
      },
      "execution_count": null,
      "outputs": [
        {
          "output_type": "execute_result",
          "data": {
            "text/plain": [
              "{'customers': 9,\n",
              " 'find': 4,\n",
              " 'the': 3,\n",
              " \"laptop's\": 8,\n",
              " 'build': 5,\n",
              " 'quality': 7,\n",
              " 'good,': 5,\n",
              " 'with': 4,\n",
              " 'one': 3,\n",
              " 'noting': 6,\n",
              " 'its': 3,\n",
              " 'premium': 7,\n",
              " 'look': 4,\n",
              " 'a@$@%@%nd': 9,\n",
              " 'feel,': 5,\n",
              " 'and': 3,\n",
              " 'consider': 8,\n",
              " 'it': 2,\n",
              " 'good': 4,\n",
              " 'value': 5,\n",
              " 'for': 3,\n",
              " 'money.': 6,\n",
              " 'Moreover,': 9,\n",
              " 'sound': 5,\n",
              " 'is': 2,\n",
              " 'acceptable,': 11,\n",
              " 'they': 4,\n",
              " 'suitable': 8,\n",
              " 'fo@$@4r': 7,\n",
              " 'student': 7,\n",
              " 'use.': 4,\n",
              " 'However,': 8,\n",
              " 'performance': 11,\n",
              " 'receives': 8,\n",
              " 'mixed': 5,\n",
              " 'feedback,': 9,\n",
              " 'some': 4,\n",
              " 'finding': 7,\n",
              " 'satisfying': 10,\n",
              " 'while': 5,\n",
              " 'others': 6,\n",
              " 'describe': 8,\n",
              " 'as': 2,\n",
              " 'extremely': 9,\n",
              " 'bad.': 4,\n",
              " 'Addit@@@%2ionally,': 18,\n",
              " 'fingerprint': 11,\n",
              " 'sensor': 6,\n",
              " 'not': 3,\n",
              " 'available,': 10,\n",
              " 'cus24$@$@%tomers': 16,\n",
              " 'report': 6,\n",
              " 'poor': 4,\n",
              " 'battery': 7,\n",
              " 'performance.': 12}"
            ]
          },
          "metadata": {},
          "execution_count": 31
        }
      ]
    },
    {
      "cell_type": "code",
      "source": [
        "d"
      ],
      "metadata": {
        "colab": {
          "base_uri": "https://localhost:8080/"
        },
        "id": "311matyyxyLE",
        "outputId": "a09ea77f-2169-4261-c699-340d582160c3"
      },
      "execution_count": 9,
      "outputs": [
        {
          "output_type": "execute_result",
          "data": {
            "text/plain": [
              "{'customers': 9,\n",
              " 'find': 4,\n",
              " 'the': 3,\n",
              " \"laptop's\": 8,\n",
              " 'build': 5,\n",
              " 'quality': 7,\n",
              " 'good,': 5,\n",
              " 'with': 4,\n",
              " 'one': 3,\n",
              " 'noting': 6,\n",
              " 'its': 3,\n",
              " 'premium': 7,\n",
              " 'look': 4,\n",
              " 'a@$@%@%nd': 9,\n",
              " 'feel,': 5,\n",
              " 'and': 3,\n",
              " 'consider': 8,\n",
              " 'it': 2,\n",
              " 'good': 4,\n",
              " 'value': 5,\n",
              " 'for': 3,\n",
              " 'money.': 6,\n",
              " 'Moreover,': 9,\n",
              " 'sound': 5,\n",
              " 'is': 2,\n",
              " 'acceptable,': 11,\n",
              " 'they': 4,\n",
              " 'suitable': 8,\n",
              " 'fo@$@4r': 7,\n",
              " 'student': 7,\n",
              " 'use.': 4,\n",
              " 'However,': 8,\n",
              " 'performance': 11,\n",
              " 'receives': 8,\n",
              " 'mixed': 5,\n",
              " 'feedback,': 9,\n",
              " 'some': 4,\n",
              " 'finding': 7,\n",
              " 'satisfying': 10,\n",
              " 'while': 5,\n",
              " 'others': 6,\n",
              " 'describe': 8,\n",
              " 'as': 2,\n",
              " 'extremely': 9,\n",
              " 'bad.': 4,\n",
              " 'Addit@@@%2ionally,': 18,\n",
              " 'fingerprint': 11,\n",
              " 'sensor': 6,\n",
              " 'not': 3,\n",
              " 'available,': 10,\n",
              " 'cus24$@$@%tomers': 16,\n",
              " 'report': 6,\n",
              " 'poor': 4,\n",
              " 'battery': 7,\n",
              " 'performance.': 12}"
            ]
          },
          "metadata": {},
          "execution_count": 9
        }
      ]
    },
    {
      "cell_type": "code",
      "source": [
        "customer_review\n",
        "counter=0\n",
        "for i in customer_review:\n",
        "  if i not in \"aeiouAEIOU\" and i.isalpha():\n",
        "    counter=counter+1\n",
        "print(counter)"
      ],
      "metadata": {
        "colab": {
          "base_uri": "https://localhost:8080/"
        },
        "id": "9d3peY4SNIfK",
        "outputId": "f180af61-b8d4-4eaa-8ae6-83f8499458fb"
      },
      "execution_count": 12,
      "outputs": [
        {
          "output_type": "stream",
          "name": "stdout",
          "text": [
            "222\n"
          ]
        }
      ]
    },
    {
      "cell_type": "code",
      "source": [
        "customer_review\n",
        "counter=0\n",
        "for i in customer_review:\n",
        "  if i not in i.isalpha():\n",
        "    counter=counter+1\n",
        "print(counter)"
      ],
      "metadata": {
        "id": "TbjWCO56NITu",
        "colab": {
          "base_uri": "https://localhost:8080/",
          "height": 211
        },
        "outputId": "2dbaab4d-dc64-4b17-f98f-f0ce003916df"
      },
      "execution_count": 13,
      "outputs": [
        {
          "output_type": "error",
          "ename": "TypeError",
          "evalue": "argument of type 'bool' is not iterable",
          "traceback": [
            "\u001b[0;31m---------------------------------------------------------------------------\u001b[0m",
            "\u001b[0;31mTypeError\u001b[0m                                 Traceback (most recent call last)",
            "\u001b[0;32m/tmp/ipython-input-3294934577.py\u001b[0m in \u001b[0;36m<cell line: 0>\u001b[0;34m()\u001b[0m\n\u001b[1;32m      2\u001b[0m \u001b[0mcounter\u001b[0m\u001b[0;34m=\u001b[0m\u001b[0;36m0\u001b[0m\u001b[0;34m\u001b[0m\u001b[0;34m\u001b[0m\u001b[0m\n\u001b[1;32m      3\u001b[0m \u001b[0;32mfor\u001b[0m \u001b[0mi\u001b[0m \u001b[0;32min\u001b[0m \u001b[0mcustomer_review\u001b[0m\u001b[0;34m:\u001b[0m\u001b[0;34m\u001b[0m\u001b[0;34m\u001b[0m\u001b[0m\n\u001b[0;32m----> 4\u001b[0;31m   \u001b[0;32mif\u001b[0m \u001b[0mi\u001b[0m \u001b[0;32mnot\u001b[0m \u001b[0;32min\u001b[0m \u001b[0mi\u001b[0m\u001b[0;34m.\u001b[0m\u001b[0misalpha\u001b[0m\u001b[0;34m(\u001b[0m\u001b[0;34m)\u001b[0m\u001b[0;34m:\u001b[0m\u001b[0;34m\u001b[0m\u001b[0;34m\u001b[0m\u001b[0m\n\u001b[0m\u001b[1;32m      5\u001b[0m     \u001b[0mcounter\u001b[0m\u001b[0;34m=\u001b[0m\u001b[0mcounter\u001b[0m\u001b[0;34m+\u001b[0m\u001b[0;36m1\u001b[0m\u001b[0;34m\u001b[0m\u001b[0;34m\u001b[0m\u001b[0m\n\u001b[1;32m      6\u001b[0m \u001b[0mprint\u001b[0m\u001b[0;34m(\u001b[0m\u001b[0mcounter\u001b[0m\u001b[0;34m)\u001b[0m\u001b[0;34m\u001b[0m\u001b[0;34m\u001b[0m\u001b[0m\n",
            "\u001b[0;31mTypeError\u001b[0m: argument of type 'bool' is not iterable"
          ]
        }
      ]
    },
    {
      "cell_type": "code",
      "source": [
        "x=\"data\"\n",
        "for i in range (1,len(x)+1):\n",
        " print(x[0:i])"
      ],
      "metadata": {
        "id": "g85VXlH_NIHh",
        "colab": {
          "base_uri": "https://localhost:8080/"
        },
        "outputId": "be5daf5c-173b-4c7c-95f8-0d824e1e9cc0"
      },
      "execution_count": 17,
      "outputs": [
        {
          "output_type": "stream",
          "name": "stdout",
          "text": [
            "d\n",
            "da\n",
            "dat\n",
            "data\n"
          ]
        }
      ]
    },
    {
      "cell_type": "code",
      "source": [
        "for i in range(0,10,2):\n",
        "  for j in range(0,10,3):\n",
        "    print(i,j,end='-')"
      ],
      "metadata": {
        "colab": {
          "base_uri": "https://localhost:8080/"
        },
        "id": "RPPkLn9qzMsQ",
        "outputId": "6367afa6-381a-47e0-fb20-96aaca596555"
      },
      "execution_count": 19,
      "outputs": [
        {
          "output_type": "stream",
          "name": "stdout",
          "text": [
            "0 0-0 3-0 6-0 9-2 0-2 3-2 6-2 9-4 0-4 3-4 6-4 9-6 0-6 3-6 6-6 9-8 0-8 3-8 6-8 9-"
          ]
        }
      ]
    },
    {
      "cell_type": "code",
      "source": [
        "for i in range(1,6):\n",
        "  print(\"*\"*i)\n",
        "for j in range(1,6):\n",
        "  print(\"*\"*(6-j))"
      ],
      "metadata": {
        "colab": {
          "base_uri": "https://localhost:8080/"
        },
        "id": "I9y2dkEKzMkX",
        "outputId": "fe6eba2b-1ba1-4a6c-d8a7-01189b0f6bed"
      },
      "execution_count": 23,
      "outputs": [
        {
          "output_type": "stream",
          "name": "stdout",
          "text": [
            "*\n",
            "**\n",
            "***\n",
            "****\n",
            "*****\n",
            "*****\n",
            "****\n",
            "***\n",
            "**\n",
            "*\n"
          ]
        }
      ]
    },
    {
      "cell_type": "code",
      "source": [],
      "metadata": {
        "id": "PsgMIKyIzMa-"
      },
      "execution_count": null,
      "outputs": []
    },
    {
      "cell_type": "code",
      "source": [],
      "metadata": {
        "id": "dV0a8JbXzMNw"
      },
      "execution_count": null,
      "outputs": []
    }
  ]
}